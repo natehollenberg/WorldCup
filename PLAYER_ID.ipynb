{
 "cells": [
  {
   "cell_type": "code",
   "execution_count": 9,
   "metadata": {},
   "outputs": [],
   "source": [
    "import pandas as pd\n",
    "\n",
    "data = pd.read_csv('WorldCup/lineup_data/soccer_data.csv')\n",
    "form = pd.read_csv('WorldCup/lineup_data/form.csv')\n",
    "players = pd.read_csv('WorldCup/lineup_data/players.csv')"
   ]
  },
  {
   "cell_type": "code",
   "execution_count": 10,
   "metadata": {},
   "outputs": [],
   "source": [
    "form.drop(columns =['Unnamed: 0', 'Unnamed: 0.1', 'index'], inplace = True)\n",
    "players.drop(columns =['Unnamed: 0', 'Unnamed: 0.1', 'index'], inplace = True)\n",
    "data.drop(columns =['Unnamed: 0', 'Unnamed: 0.1', 'index'], inplace = True)"
   ]
  },
  {
   "cell_type": "code",
   "execution_count": 14,
   "metadata": {},
   "outputs": [
    {
     "name": "stderr",
     "output_type": "stream",
     "text": [
      "/Users/timpugh/anaconda3/lib/python3.7/site-packages/IPython/core/interactiveshell.py:2785: DtypeWarning: Columns (11,24) have mixed types. Specify dtype option on import or set low_memory=False.\n",
      "  interactivity=interactivity, compiler=compiler, result=result)\n"
     ]
    }
   ],
   "source": [
    "FIFA18_attr = pd.read_csv('WorldCup/PlayerAttributeData.csv')\n",
    "FIFA18_FBR = pd.read_csv('WorldCup/PlayerPerformanceData_FBR.csv')\n",
    "FIFA18_Personel = pd.read_csv('WorldCup/PlayerPersonalData.csv')\n",
    "FIFA18_Position = pd.read_csv('WorldCup/PlayerPlayingPositionData.csv')"
   ]
  },
  {
   "cell_type": "code",
   "execution_count": 33,
   "metadata": {},
   "outputs": [],
   "source": [
    "Fifa18_complete = FIFA18_attr.merge(FIFA18_Personel, on = 'ID', how = 'outer')\n",
    "Fifa18_complete = Fifa18_complete.merge(FIFA18_Position, on = 'ID', how = 'outer')"
   ]
  },
  {
   "cell_type": "code",
   "execution_count": 66,
   "metadata": {},
   "outputs": [],
   "source": [
    "players['identifier_0'] = players['name'] + players['team']"
   ]
  },
  {
   "cell_type": "code",
   "execution_count": 67,
   "metadata": {},
   "outputs": [],
   "source": [
    "Fifa18_complete['identifier_1'] = Fifa18_complete['Name'] + Fifa18_complete['Club']"
   ]
  },
  {
   "cell_type": "code",
   "execution_count": 88,
   "metadata": {},
   "outputs": [],
   "source": [
    "possibilities = [str(n) for n in Fifa18_complete['identifier_1']]"
   ]
  },
  {
   "cell_type": "code",
   "execution_count": 105,
   "metadata": {},
   "outputs": [],
   "source": [
    "import difflib \n",
    "\n",
    "identifier_1 = []\n",
    "for i in range(len(players['identifier_0'])):\n",
    "    match = difflib.get_close_matches(players['identifier_0'][i], possibilities, 1)\n",
    "    identifier_1.append(match)\n"
   ]
  },
  {
   "cell_type": "code",
   "execution_count": 106,
   "metadata": {},
   "outputs": [],
   "source": [
    "players['identifier_1'] = identifier_1"
   ]
  },
  {
   "cell_type": "code",
   "execution_count": 135,
   "metadata": {},
   "outputs": [],
   "source": [
    "players['identifier_1'] = [str(st)[2:-2] for st in players['identifier_1']]"
   ]
  },
  {
   "cell_type": "code",
   "execution_count": 137,
   "metadata": {},
   "outputs": [],
   "source": [
    "startinglineups_merged_w_fifa18 = players.merge(Fifa18_complete, on = 'identifier_1', how = 'left', indicator = True)"
   ]
  },
  {
   "cell_type": "code",
   "execution_count": 148,
   "metadata": {},
   "outputs": [],
   "source": [
    "startinglineups_merged_w_fifa18.to_csv('startinglineups_merged_w_fifa18.csv', encoding = 'utf-8-sig')\n",
    "players.to_csv('players_w_id.csv', encoding = 'utf-8-sig')\n",
    "Fifa18_complete.to_csv('Fifa18_complete_w_id.csv', encoding = 'utf-8-sig')"
   ]
  },
  {
   "cell_type": "code",
   "execution_count": 169,
   "metadata": {},
   "outputs": [],
   "source": [
    "unmerged = startinglineups_merged_w_fifa18[startinglineups_merged_w_fifa18['_merge'] == 'left_only']"
   ]
  },
  {
   "cell_type": "code",
   "execution_count": 170,
   "metadata": {},
   "outputs": [],
   "source": [
    "unmerged = unmerged.drop(columns = ['identifier_x','identifier_1', 'Unnamed: 0_x', 'Acceleration',\n",
    "       'Aggression', 'Agility', 'Balance', 'Ball control', 'Composure',\n",
    "       'Crossing', 'Curve', 'Dribbling', 'Finishing', 'Free kick accuracy',\n",
    "       'GK diving', 'GK handling', 'GK kicking', 'GK positioning',\n",
    "       'GK reflexes', 'Heading accuracy', 'ID', 'Interceptions', 'Jumping',\n",
    "       'Long passing', 'Long shots', 'Marking', 'Penalties', 'Positioning',\n",
    "       'Reactions', 'Short passing', 'Shot power', 'Sliding tackle',\n",
    "       'Sprint speed', 'Stamina', 'Standing tackle', 'Strength', 'Vision',\n",
    "       'Volleys', 'Unnamed: 0_y', 'Unnamed: 0.1', 'Name', 'Age', 'Photo',\n",
    "       'Nationality', 'Flag', 'Overall', 'Potential', 'Club', 'Club Logo',\n",
    "       'Value', 'Wage', 'Special', 'Unnamed: 0', 'CAM', 'CB', 'CDM', 'CF',\n",
    "       'CM', 'LAM', 'LB', 'LCB', 'LCM', 'LDM', 'LF', 'LM', 'LS', 'LW', 'LWB',\n",
    "       'Preferred Positions', 'RAM', 'RB', 'RCB', 'RCM', 'RDM', 'RF', 'RM',\n",
    "       'RS', 'RW', 'RWB', 'ST', 'identifier_y', '_merge'])"
   ]
  },
  {
   "cell_type": "code",
   "execution_count": 171,
   "metadata": {},
   "outputs": [],
   "source": [
    "unmerged.reset_index(inplace=True)"
   ]
  },
  {
   "cell_type": "code",
   "execution_count": 179,
   "metadata": {},
   "outputs": [],
   "source": [
    "identifier_1 = []\n",
    "for i in range(len(unmerged['identifier_0'])):\n",
    "    match = difflib.get_close_matches(unmerged['identifier_0'][i], possibilities, 1, cutoff = 0.1)\n",
    "    identifier_1.append(match)"
   ]
  },
  {
   "cell_type": "code",
   "execution_count": 185,
   "metadata": {},
   "outputs": [],
   "source": [
    "unmerged['identifier_1']=identifier_1\n",
    "unmerged['identifier_1'] = [str(st)[2:-2] for st in unmerged['identifier_1']]"
   ]
  },
  {
   "cell_type": "code",
   "execution_count": 186,
   "metadata": {},
   "outputs": [],
   "source": [
    "unmerged = unmerged.merge(Fifa18_complete, on = 'identifier_1', how = 'left', indicator = True)"
   ]
  },
  {
   "cell_type": "code",
   "execution_count": 187,
   "metadata": {},
   "outputs": [],
   "source": [
    "merged = startinglineups_merged_w_fifa18[startinglineups_merged_w_fifa18['_merge'] == 'both']"
   ]
  },
  {
   "cell_type": "code",
   "execution_count": 188,
   "metadata": {},
   "outputs": [
    {
     "name": "stderr",
     "output_type": "stream",
     "text": [
      "/Users/timpugh/anaconda3/lib/python3.7/site-packages/pandas/core/frame.py:6211: FutureWarning: Sorting because non-concatenation axis is not aligned. A future version\n",
      "of pandas will change to not sort by default.\n",
      "\n",
      "To accept the future behavior, pass 'sort=False'.\n",
      "\n",
      "To retain the current behavior and silence the warning, pass 'sort=True'.\n",
      "\n",
      "  sort=sort)\n"
     ]
    }
   ],
   "source": [
    "merged_players_df = merged.append(unmerged)"
   ]
  },
  {
   "cell_type": "code",
   "execution_count": 191,
   "metadata": {},
   "outputs": [],
   "source": [
    "merged_players_df.to_csv('startinglineups_merged_w_fifa18.csv', encoding = 'utf-8-sig')\n",
    "players.to_csv('players_w_id.csv', encoding = 'utf-8-sig')\n",
    "Fifa18_complete.to_csv('Fifa18_complete_w_id.csv', encoding = 'utf-8-sig')"
   ]
  }
 ],
 "metadata": {
  "kernelspec": {
   "display_name": "Python 3",
   "language": "python",
   "name": "python3"
  },
  "language_info": {
   "codemirror_mode": {
    "name": "ipython",
    "version": 3
   },
   "file_extension": ".py",
   "mimetype": "text/x-python",
   "name": "python",
   "nbconvert_exporter": "python",
   "pygments_lexer": "ipython3",
   "version": "3.7.0"
  }
 },
 "nbformat": 4,
 "nbformat_minor": 2
}
