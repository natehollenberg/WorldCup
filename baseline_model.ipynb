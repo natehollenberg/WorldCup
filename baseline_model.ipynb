{
 "cells": [
  {
   "cell_type": "code",
   "execution_count": 86,
   "metadata": {},
   "outputs": [
    {
     "data": {
      "text/html": [
       "<style>\n",
       "blockquote { background: #AEDE94; }\n",
       "h1 { \n",
       "    padding-top: 25px;\n",
       "    padding-bottom: 25px;\n",
       "    text-align: left; \n",
       "    padding-left: 10px;\n",
       "    background-color: #DDDDDD; \n",
       "    color: black;\n",
       "}\n",
       "h2 { \n",
       "    padding-top: 10px;\n",
       "    padding-bottom: 10px;\n",
       "    text-align: left; \n",
       "    padding-left: 5px;\n",
       "    background-color: #EEEEEE; \n",
       "    color: black;\n",
       "}\n",
       "\n",
       "div.exercise {\n",
       "\tbackground-color: #ffcccc;\n",
       "\tborder-color: #E9967A; \t\n",
       "\tborder-left: 5px solid #800080; \n",
       "\tpadding: 0.5em;\n",
       "}\n",
       "div.theme {\n",
       "\tbackground-color: #DDDDDD;\n",
       "\tborder-color: #E9967A; \t\n",
       "\tborder-left: 5px solid #800080; \n",
       "\tpadding: 0.5em;\n",
       "\tfont-size: 18pt;\n",
       "}\n",
       "div.gc { \n",
       "\tbackground-color: #AEDE94;\n",
       "\tborder-color: #E9967A; \t \n",
       "\tborder-left: 5px solid #800080; \n",
       "\tpadding: 0.5em;\n",
       "\tfont-size: 12pt;\n",
       "}\n",
       "p.q1 { \n",
       "    padding-top: 5px;\n",
       "    padding-bottom: 5px;\n",
       "    text-align: left; \n",
       "    padding-left: 5px;\n",
       "    background-color: #EEEEEE; \n",
       "    color: black;\n",
       "}\n",
       "header {\n",
       "   padding-top: 35px;\n",
       "    padding-bottom: 35px;\n",
       "    text-align: left; \n",
       "    padding-left: 10px;\n",
       "    background-color: #DDDDDD; \n",
       "    color: black;\n",
       "}\n",
       "</style>\n",
       "\n"
      ],
      "text/plain": [
       "<IPython.core.display.HTML object>"
      ]
     },
     "execution_count": 86,
     "metadata": {},
     "output_type": "execute_result"
    }
   ],
   "source": [
    "#RUN THIS CELL \n",
    "import requests\n",
    "from IPython.core.display import HTML\n",
    "styles = requests.get(\"https://raw.githubusercontent.com/Harvard-IACS/2018-CS109A/master/content/styles/cs109.css\").text\n",
    "HTML(styles)"
   ]
  },
  {
   "cell_type": "code",
   "execution_count": 141,
   "metadata": {},
   "outputs": [],
   "source": [
    "%matplotlib inline\n",
    "import numpy as np\n",
    "import numpy.random as nd\n",
    "import pandas as pd\n",
    "import math\n",
    "import matplotlib.pyplot as plt\n",
    "\n",
    "import os\n",
    "import seaborn as sns\n",
    "sns.set(style=\"darkgrid\")\n",
    "\n",
    "from sklearn.linear_model import LogisticRegressionCV\n",
    "from sklearn.neighbors import KNeighborsClassifier\n",
    "from sklearn.neighbors import KNeighborsRegressor\n",
    "\n",
    "from sklearn.model_selection import cross_val_score\n",
    "from sklearn.metrics import accuracy_score\n",
    "from sklearn.metrics import confusion_matrix\n",
    "from sklearn.preprocessing import Imputer\n",
    "from sklearn.metrics import mean_squared_error\n",
    "from sklearn.model_selection import train_test_split\n",
    "from IPython.display import display\n",
    "\n",
    "import random"
   ]
  },
  {
   "cell_type": "code",
   "execution_count": 142,
   "metadata": {
    "collapsed": true
   },
   "outputs": [],
   "source": [
    "data_train = pd.read_csv('train_data.csv')\n",
    "data_test = pd.read_csv('test_data.csv')"
   ]
  },
  {
   "cell_type": "code",
   "execution_count": 1,
   "metadata": {},
   "outputs": [],
   "source": [
    "columns_keep = [\n",
    "    'Home Rank', 'Away Rank', \n",
    "    'Home GDP per Person (dollars)', 'Home GDP (millions)', 'Home Population', 'Home Temp Diff', 'Home Rain Diff',  \n",
    "    'Away GDP per Person (dollars)', 'Away GDP (millions)', 'Away Population', 'Away Temp Diff', 'Away Rain Diff', \n",
    "]"
   ]
  },
  {
   "cell_type": "code",
   "execution_count": 169,
   "metadata": {},
   "outputs": [],
   "source": [
    "X_train = data_train[columns_keep]\n",
    "y_train_home = data_train['Home Team Goals']\n",
    "y_train_away = data_train['Away Team Goals']\n",
    "\n",
    "X_test = data_test[columns_keep]\n",
    "y_test_home = data_test['Home Team Goals']\n",
    "y_test_away = data_test['Away Team Goals']"
   ]
  },
  {
   "cell_type": "code",
   "execution_count": 170,
   "metadata": {
    "collapsed": true
   },
   "outputs": [],
   "source": [
    "def get_results(y_predict_home, y_predict_away):\n",
    "    res = []\n",
    "    for i in range(len(y_predict_home)):\n",
    "        if y_predict_home[i] > y_predict_away[i]:\n",
    "            res.append('W')\n",
    "        elif y_predict_home[i] < y_predict_away[i]:\n",
    "            res.append('L')\n",
    "            \n",
    "        else:\n",
    "            res.append('D')\n",
    "    \n",
    "    return np.array(res)"
   ]
  },
  {
   "cell_type": "code",
   "execution_count": 171,
   "metadata": {},
   "outputs": [],
   "source": [
    "model_home = KNeighborsRegressor(n_neighbors=18)\n",
    "model_away = KNeighborsRegressor(n_neighbors=18)\n",
    "\n",
    "model_fit_home = model_home.fit(X_train, y_train_home)\n",
    "model_fit_away = model_away.fit(X_train, y_train_away)\n"
   ]
  },
  {
   "cell_type": "code",
   "execution_count": 189,
   "metadata": {},
   "outputs": [
    {
     "data": {
      "text/plain": [
       "0.484375"
      ]
     },
     "execution_count": 189,
     "metadata": {},
     "output_type": "execute_result"
    }
   ],
   "source": [
    "y_predict_home = model_fit_home.predict(X_test)\n",
    "y_predict_away = model_fit_away.predict(X_test)\n",
    "\n",
    "y_predict = get_results(y_predict_home, y_predict_away)\n",
    "\n",
    "accuracy_score(y_test, y_predict)"
   ]
  },
  {
   "cell_type": "code",
   "execution_count": 175,
   "metadata": {},
   "outputs": [
    {
     "data": {
      "text/plain": [
       "array([0.94444444, 1.27777778, 1.83333333, 1.27777778, 0.83333333,\n",
       "       0.61111111, 0.33333333, 1.11111111, 0.44444444, 1.72222222,\n",
       "       1.22222222, 0.83333333, 1.05555556, 1.61111111, 0.72222222,\n",
       "       1.22222222, 0.72222222, 1.5       , 0.83333333, 1.77777778,\n",
       "       0.55555556, 1.44444444, 0.55555556, 0.33333333, 1.11111111,\n",
       "       1.11111111, 1.11111111, 1.        , 1.38888889, 1.38888889,\n",
       "       1.38888889, 1.38888889, 1.61111111, 1.16666667, 0.94444444,\n",
       "       1.72222222, 1.22222222, 0.61111111, 0.77777778, 1.44444444,\n",
       "       0.88888889, 0.94444444, 1.44444444, 0.77777778, 1.33333333,\n",
       "       0.77777778, 0.66666667, 0.83333333, 1.16666667, 1.22222222,\n",
       "       1.22222222, 0.94444444, 0.77777778, 1.27777778, 1.11111111,\n",
       "       1.11111111, 0.94444444, 1.16666667, 0.61111111, 1.38888889,\n",
       "       1.38888889, 0.94444444, 1.33333333, 0.77777778])"
      ]
     },
     "execution_count": 175,
     "metadata": {},
     "output_type": "execute_result"
    }
   ],
   "source": [
    "y_predict_away"
   ]
  },
  {
   "cell_type": "code",
   "execution_count": 174,
   "metadata": {},
   "outputs": [
    {
     "data": {
      "text/plain": [
       "array([1.33333333, 1.44444444, 1.        , 1.33333333, 1.5       ,\n",
       "       1.33333333, 1.66666667, 0.88888889, 1.55555556, 1.        ,\n",
       "       0.83333333, 1.5       , 1.11111111, 1.27777778, 1.33333333,\n",
       "       1.66666667, 1.61111111, 1.27777778, 1.55555556, 1.5       ,\n",
       "       1.33333333, 1.61111111, 1.27777778, 1.66666667, 1.55555556,\n",
       "       1.22222222, 0.88888889, 1.44444444, 1.11111111, 1.11111111,\n",
       "       1.11111111, 1.11111111, 1.05555556, 0.72222222, 1.44444444,\n",
       "       1.61111111, 1.27777778, 1.61111111, 1.5       , 1.61111111,\n",
       "       0.88888889, 0.88888889, 1.61111111, 0.83333333, 0.83333333,\n",
       "       0.83333333, 1.44444444, 0.94444444, 0.72222222, 1.61111111,\n",
       "       1.27777778, 1.44444444, 1.5       , 1.16666667, 0.72222222,\n",
       "       1.72222222, 1.5       , 0.72222222, 1.61111111, 1.11111111,\n",
       "       1.11111111, 1.33333333, 1.16666667, 1.        ])"
      ]
     },
     "execution_count": 174,
     "metadata": {},
     "output_type": "execute_result"
    }
   ],
   "source": [
    "y_predict_home"
   ]
  },
  {
   "cell_type": "code",
   "execution_count": 61,
   "metadata": {},
   "outputs": [],
   "source": [
    "home_win = X_test['Home Rank'] > X_test['Away Rank']\n",
    "y_predict_base = home_win.replace({True: 'W', False: 'L'})"
   ]
  },
  {
   "cell_type": "code",
   "execution_count": 62,
   "metadata": {},
   "outputs": [
    {
     "data": {
      "text/plain": [
       "0.3125"
      ]
     },
     "execution_count": 62,
     "metadata": {},
     "output_type": "execute_result"
    }
   ],
   "source": [
    "accuracy_score(y_test, y_predict_base)"
   ]
  },
  {
   "cell_type": "code",
   "execution_count": 176,
   "metadata": {
    "collapsed": true
   },
   "outputs": [],
   "source": [
    "X_train = data_train[columns_keep]\n",
    "y_train_1= data_train['Home Team Goals'] - data_train['Away Team Goals']\n",
    "\n",
    "\n",
    "X_test = data_test[columns_keep]\n",
    "y_test_1 = data_test['Home Team Goals'] - data_test['Away Team Goals']"
   ]
  },
  {
   "cell_type": "code",
   "execution_count": 190,
   "metadata": {},
   "outputs": [
    {
     "data": {
      "text/plain": [
       "0.484375"
      ]
     },
     "execution_count": 190,
     "metadata": {},
     "output_type": "execute_result"
    }
   ],
   "source": [
    "model = KNeighborsRegressor(n_neighbors=18)\n",
    "model_fit = model.fit(X_train, y_train_1)\n",
    "predictions = model_fit.predict(X_test)\n",
    "\n",
    "def get_results_2(predictions):\n",
    "    res = []\n",
    "    for i in range(len(predictions)):\n",
    "        if predictions[i] > 0:\n",
    "            res.append('W')\n",
    "        elif predictions[i] < 0:\n",
    "            res.append('L')\n",
    "            \n",
    "        else:\n",
    "            res.append('D')\n",
    "    \n",
    "    return np.array(res)\n",
    "\n",
    "pred_array = get_results_2(predictions)\n",
    "accuracy_score(y_test, pred_array)"
   ]
  },
  {
   "cell_type": "code",
   "execution_count": null,
   "metadata": {
    "collapsed": true
   },
   "outputs": [],
   "source": []
  }
 ],
 "metadata": {
  "kernelspec": {
   "display_name": "Python (cs109)",
   "language": "python",
   "name": "cs109"
  },
  "language_info": {
   "codemirror_mode": {
    "name": "ipython",
    "version": 3
   },
   "file_extension": ".py",
   "mimetype": "text/x-python",
   "name": "python",
   "nbconvert_exporter": "python",
   "pygments_lexer": "ipython3",
   "version": "3.6.7"
  }
 },
 "nbformat": 4,
 "nbformat_minor": 2
}
