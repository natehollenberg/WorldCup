{
 "cells": [
  {
   "cell_type": "code",
   "execution_count": 1,
   "metadata": {
    "collapsed": true
   },
   "outputs": [],
   "source": [
    "import pandas as pd\n",
    "import numpy as np"
   ]
  },
  {
   "cell_type": "code",
   "execution_count": 2,
   "metadata": {},
   "outputs": [
    {
     "name": "stderr",
     "output_type": "stream",
     "text": [
      "/Users/marcusheijer/anaconda3/lib/python3.6/site-packages/IPython/core/interactiveshell.py:2698: DtypeWarning: Columns (14) have mixed types. Specify dtype option on import or set low_memory=False.\n",
      "  interactivity=interactivity, compiler=compiler, result=result)\n"
     ]
    }
   ],
   "source": [
    "game_data_df = pd.read_csv('../train_data/game_data.csv', index_col=0)\n",
    "form_data_df = pd.read_csv('../train_data/form_data.csv', index_col=0)\n",
    "player_data_df = pd.read_csv('../train_data/player_data.csv', index_col=0)"
   ]
  },
  {
   "cell_type": "code",
   "execution_count": 3,
   "metadata": {},
   "outputs": [],
   "source": [
    "game_data_df = game_data_df[game_data_df['temp'].map(lambda x: x.endswith('C'))]"
   ]
  },
  {
   "cell_type": "code",
   "execution_count": 4,
   "metadata": {},
   "outputs": [
    {
     "data": {
      "text/html": [
       "<div>\n",
       "<style>\n",
       "    .dataframe thead tr:only-child th {\n",
       "        text-align: right;\n",
       "    }\n",
       "\n",
       "    .dataframe thead th {\n",
       "        text-align: left;\n",
       "    }\n",
       "\n",
       "    .dataframe tbody tr th {\n",
       "        vertical-align: top;\n",
       "    }\n",
       "</style>\n",
       "<table border=\"1\" class=\"dataframe\">\n",
       "  <thead>\n",
       "    <tr style=\"text-align: right;\">\n",
       "      <th></th>\n",
       "      <th>game_id</th>\n",
       "      <th>away</th>\n",
       "      <th>home</th>\n",
       "      <th>temp</th>\n",
       "      <th>weather_desc</th>\n",
       "      <th>date</th>\n",
       "      <th>home market value</th>\n",
       "      <th>home age</th>\n",
       "      <th>away market value</th>\n",
       "      <th>away age</th>\n",
       "      <th>FTAG</th>\n",
       "      <th>FTHG</th>\n",
       "    </tr>\n",
       "  </thead>\n",
       "  <tbody>\n",
       "    <tr>\n",
       "      <th>0</th>\n",
       "      <td>0</td>\n",
       "      <td>Leicester City</td>\n",
       "      <td>Arsenal</td>\n",
       "      <td>11C</td>\n",
       "      <td>Clear</td>\n",
       "      <td>11/08/17</td>\n",
       "      <td>570,510,000</td>\n",
       "      <td>23.8</td>\n",
       "      <td>226,890,000</td>\n",
       "      <td>25.5</td>\n",
       "      <td>3</td>\n",
       "      <td>4</td>\n",
       "    </tr>\n",
       "    <tr>\n",
       "      <th>1</th>\n",
       "      <td>194</td>\n",
       "      <td>Leicester City</td>\n",
       "      <td>Watford</td>\n",
       "      <td>3C</td>\n",
       "      <td>Clear</td>\n",
       "      <td>26/12/17</td>\n",
       "      <td>150,570,000</td>\n",
       "      <td>25.9</td>\n",
       "      <td>226,890,000</td>\n",
       "      <td>25.5</td>\n",
       "      <td>1</td>\n",
       "      <td>2</td>\n",
       "    </tr>\n",
       "    <tr>\n",
       "      <th>2</th>\n",
       "      <td>219</td>\n",
       "      <td>Leicester City</td>\n",
       "      <td>Chelsea</td>\n",
       "      <td>5C</td>\n",
       "      <td>Cloudy</td>\n",
       "      <td>13/01/18</td>\n",
       "      <td>577,940,000</td>\n",
       "      <td>23.7</td>\n",
       "      <td>226,890,000</td>\n",
       "      <td>25.5</td>\n",
       "      <td>0</td>\n",
       "      <td>0</td>\n",
       "    </tr>\n",
       "    <tr>\n",
       "      <th>3</th>\n",
       "      <td>344</td>\n",
       "      <td>Leicester City</td>\n",
       "      <td>Crystal Palace</td>\n",
       "      <td>8C</td>\n",
       "      <td>Cloudy</td>\n",
       "      <td>28/04/18</td>\n",
       "      <td>174,980,000</td>\n",
       "      <td>24.8</td>\n",
       "      <td>226,890,000</td>\n",
       "      <td>25.5</td>\n",
       "      <td>0</td>\n",
       "      <td>5</td>\n",
       "    </tr>\n",
       "    <tr>\n",
       "      <th>4</th>\n",
       "      <td>243</td>\n",
       "      <td>Leicester City</td>\n",
       "      <td>Everton</td>\n",
       "      <td>5C</td>\n",
       "      <td>Breezy</td>\n",
       "      <td>31/01/18</td>\n",
       "      <td>312,080,000</td>\n",
       "      <td>23.9</td>\n",
       "      <td>226,890,000</td>\n",
       "      <td>25.5</td>\n",
       "      <td>1</td>\n",
       "      <td>2</td>\n",
       "    </tr>\n",
       "  </tbody>\n",
       "</table>\n",
       "</div>"
      ],
      "text/plain": [
       "   game_id            away            home temp weather_desc      date  \\\n",
       "0        0  Leicester City         Arsenal  11C        Clear  11/08/17   \n",
       "1      194  Leicester City         Watford   3C        Clear  26/12/17   \n",
       "2      219  Leicester City         Chelsea   5C       Cloudy  13/01/18   \n",
       "3      344  Leicester City  Crystal Palace   8C       Cloudy  28/04/18   \n",
       "4      243  Leicester City         Everton   5C       Breezy  31/01/18   \n",
       "\n",
       "  home market value  home age away market value  away age  FTAG  FTHG  \n",
       "0       570,510,000      23.8       226,890,000      25.5     3     4  \n",
       "1       150,570,000      25.9       226,890,000      25.5     1     2  \n",
       "2       577,940,000      23.7       226,890,000      25.5     0     0  \n",
       "3       174,980,000      24.8       226,890,000      25.5     0     5  \n",
       "4       312,080,000      23.9       226,890,000      25.5     1     2  "
      ]
     },
     "metadata": {},
     "output_type": "display_data"
    },
    {
     "data": {
      "text/html": [
       "<div>\n",
       "<style>\n",
       "    .dataframe thead tr:only-child th {\n",
       "        text-align: right;\n",
       "    }\n",
       "\n",
       "    .dataframe thead th {\n",
       "        text-align: left;\n",
       "    }\n",
       "\n",
       "    .dataframe tbody tr th {\n",
       "        vertical-align: top;\n",
       "    }\n",
       "</style>\n",
       "<table border=\"1\" class=\"dataframe\">\n",
       "  <thead>\n",
       "    <tr style=\"text-align: right;\">\n",
       "      <th></th>\n",
       "      <th>goals_for</th>\n",
       "      <th>goals_against</th>\n",
       "      <th>team</th>\n",
       "      <th>game_id</th>\n",
       "    </tr>\n",
       "  </thead>\n",
       "  <tbody>\n",
       "    <tr>\n",
       "      <th>0</th>\n",
       "      <td>1.0</td>\n",
       "      <td>2.0</td>\n",
       "      <td>Arsenal</td>\n",
       "      <td>0</td>\n",
       "    </tr>\n",
       "    <tr>\n",
       "      <th>1</th>\n",
       "      <td>5.0</td>\n",
       "      <td>2.0</td>\n",
       "      <td>Arsenal</td>\n",
       "      <td>0</td>\n",
       "    </tr>\n",
       "    <tr>\n",
       "      <th>2</th>\n",
       "      <td>1.0</td>\n",
       "      <td>1.0</td>\n",
       "      <td>Arsenal</td>\n",
       "      <td>0</td>\n",
       "    </tr>\n",
       "    <tr>\n",
       "      <th>3</th>\n",
       "      <td>2.0</td>\n",
       "      <td>1.0</td>\n",
       "      <td>Arsenal</td>\n",
       "      <td>0</td>\n",
       "    </tr>\n",
       "    <tr>\n",
       "      <th>4</th>\n",
       "      <td>3.0</td>\n",
       "      <td>1.0</td>\n",
       "      <td>Arsenal</td>\n",
       "      <td>0</td>\n",
       "    </tr>\n",
       "  </tbody>\n",
       "</table>\n",
       "</div>"
      ],
      "text/plain": [
       "   goals_for  goals_against     team  game_id\n",
       "0        1.0            2.0  Arsenal        0\n",
       "1        5.0            2.0  Arsenal        0\n",
       "2        1.0            1.0  Arsenal        0\n",
       "3        2.0            1.0  Arsenal        0\n",
       "4        3.0            1.0  Arsenal        0"
      ]
     },
     "metadata": {},
     "output_type": "display_data"
    },
    {
     "data": {
      "text/html": [
       "<div>\n",
       "<style>\n",
       "    .dataframe thead tr:only-child th {\n",
       "        text-align: right;\n",
       "    }\n",
       "\n",
       "    .dataframe thead th {\n",
       "        text-align: left;\n",
       "    }\n",
       "\n",
       "    .dataframe tbody tr th {\n",
       "        vertical-align: top;\n",
       "    }\n",
       "</style>\n",
       "<table border=\"1\" class=\"dataframe\">\n",
       "  <thead>\n",
       "    <tr style=\"text-align: right;\">\n",
       "      <th></th>\n",
       "      <th>Acceleration</th>\n",
       "      <th>Age</th>\n",
       "      <th>Aggression</th>\n",
       "      <th>Agility</th>\n",
       "      <th>Balance</th>\n",
       "      <th>Ball control</th>\n",
       "      <th>Composure</th>\n",
       "      <th>Crossing</th>\n",
       "      <th>team</th>\n",
       "      <th>Curve</th>\n",
       "      <th>...</th>\n",
       "      <th>Shot power</th>\n",
       "      <th>Sliding tackle</th>\n",
       "      <th>Sprint speed</th>\n",
       "      <th>Stamina</th>\n",
       "      <th>Standing tackle</th>\n",
       "      <th>Strength</th>\n",
       "      <th>Vision</th>\n",
       "      <th>Volleys</th>\n",
       "      <th>game_id</th>\n",
       "      <th>position</th>\n",
       "    </tr>\n",
       "  </thead>\n",
       "  <tbody>\n",
       "    <tr>\n",
       "      <th>0</th>\n",
       "      <td>40</td>\n",
       "      <td>35.0</td>\n",
       "      <td>17</td>\n",
       "      <td>49</td>\n",
       "      <td>34</td>\n",
       "      <td>22</td>\n",
       "      <td>70</td>\n",
       "      <td>19</td>\n",
       "      <td>Arsenal</td>\n",
       "      <td>13</td>\n",
       "      <td>...</td>\n",
       "      <td>21</td>\n",
       "      <td>12</td>\n",
       "      <td>44</td>\n",
       "      <td>32</td>\n",
       "      <td>13</td>\n",
       "      <td>65</td>\n",
       "      <td>53</td>\n",
       "      <td>17</td>\n",
       "      <td>0</td>\n",
       "      <td>XX</td>\n",
       "    </tr>\n",
       "    <tr>\n",
       "      <th>1</th>\n",
       "      <td>61</td>\n",
       "      <td>21.0</td>\n",
       "      <td>72</td>\n",
       "      <td>60</td>\n",
       "      <td>69</td>\n",
       "      <td>69</td>\n",
       "      <td>72</td>\n",
       "      <td>52</td>\n",
       "      <td>Arsenal</td>\n",
       "      <td>33</td>\n",
       "      <td>...</td>\n",
       "      <td>48</td>\n",
       "      <td>73</td>\n",
       "      <td>63</td>\n",
       "      <td>75</td>\n",
       "      <td>74</td>\n",
       "      <td>75</td>\n",
       "      <td>55</td>\n",
       "      <td>27</td>\n",
       "      <td>0</td>\n",
       "      <td>DF</td>\n",
       "    </tr>\n",
       "    <tr>\n",
       "      <th>2</th>\n",
       "      <td>74</td>\n",
       "      <td>31.0</td>\n",
       "      <td>74</td>\n",
       "      <td>73</td>\n",
       "      <td>74</td>\n",
       "      <td>77</td>\n",
       "      <td>76</td>\n",
       "      <td>78</td>\n",
       "      <td>Arsenal</td>\n",
       "      <td>74</td>\n",
       "      <td>...</td>\n",
       "      <td>71</td>\n",
       "      <td>81</td>\n",
       "      <td>72</td>\n",
       "      <td>83</td>\n",
       "      <td>82</td>\n",
       "      <td>65</td>\n",
       "      <td>66</td>\n",
       "      <td>56</td>\n",
       "      <td>0</td>\n",
       "      <td>DF</td>\n",
       "    </tr>\n",
       "    <tr>\n",
       "      <th>3</th>\n",
       "      <td>73</td>\n",
       "      <td>24.0</td>\n",
       "      <td>91</td>\n",
       "      <td>52</td>\n",
       "      <td>55</td>\n",
       "      <td>69</td>\n",
       "      <td>70</td>\n",
       "      <td>74</td>\n",
       "      <td>Arsenal</td>\n",
       "      <td>43</td>\n",
       "      <td>...</td>\n",
       "      <td>82</td>\n",
       "      <td>84</td>\n",
       "      <td>82</td>\n",
       "      <td>85</td>\n",
       "      <td>83</td>\n",
       "      <td>91</td>\n",
       "      <td>56</td>\n",
       "      <td>31</td>\n",
       "      <td>0</td>\n",
       "      <td>DF</td>\n",
       "    </tr>\n",
       "    <tr>\n",
       "      <th>4</th>\n",
       "      <td>96</td>\n",
       "      <td>22.0</td>\n",
       "      <td>72</td>\n",
       "      <td>84</td>\n",
       "      <td>77</td>\n",
       "      <td>79</td>\n",
       "      <td>72</td>\n",
       "      <td>76</td>\n",
       "      <td>Arsenal</td>\n",
       "      <td>63</td>\n",
       "      <td>...</td>\n",
       "      <td>52</td>\n",
       "      <td>81</td>\n",
       "      <td>94</td>\n",
       "      <td>87</td>\n",
       "      <td>77</td>\n",
       "      <td>62</td>\n",
       "      <td>63</td>\n",
       "      <td>41</td>\n",
       "      <td>0</td>\n",
       "      <td>DF</td>\n",
       "    </tr>\n",
       "  </tbody>\n",
       "</table>\n",
       "<p>5 rows × 36 columns</p>\n",
       "</div>"
      ],
      "text/plain": [
       "  Acceleration   Age Aggression Agility Balance Ball control Composure  \\\n",
       "0           40  35.0         17      49      34           22        70   \n",
       "1           61  21.0         72      60      69           69        72   \n",
       "2           74  31.0         74      73      74           77        76   \n",
       "3           73  24.0         91      52      55           69        70   \n",
       "4           96  22.0         72      84      77           79        72   \n",
       "\n",
       "  Crossing     team Curve   ...    Shot power Sliding tackle Sprint speed  \\\n",
       "0       19  Arsenal    13   ...            21             12           44   \n",
       "1       52  Arsenal    33   ...            48             73           63   \n",
       "2       78  Arsenal    74   ...            71             81           72   \n",
       "3       74  Arsenal    43   ...            82             84           82   \n",
       "4       76  Arsenal    63   ...            52             81           94   \n",
       "\n",
       "  Stamina Standing tackle Strength Vision Volleys game_id position  \n",
       "0      32              13       65     53      17       0       XX  \n",
       "1      75              74       75     55      27       0       DF  \n",
       "2      83              82       65     66      56       0       DF  \n",
       "3      85              83       91     56      31       0       DF  \n",
       "4      87              77       62     63      41       0       DF  \n",
       "\n",
       "[5 rows x 36 columns]"
      ]
     },
     "metadata": {},
     "output_type": "display_data"
    }
   ],
   "source": [
    "display(game_data_df.head())\n",
    "display(form_data_df.head())\n",
    "display(player_data_df.head())"
   ]
  },
  {
   "cell_type": "code",
   "execution_count": 5,
   "metadata": {
    "collapsed": true
   },
   "outputs": [],
   "source": [
    "# function to get all of the form predictors needed\n",
    "def get_form_predictors (form, home, away):\n",
    "    \n",
    "    # get form for the home and away team\n",
    "    form_home = form[form['team'] == home]\n",
    "    form_away = form[form['team'] == away]\n",
    "    \n",
    "    # get average goal difference form predictor\n",
    "    form_home_goal_diff = np.mean(form_home['goals_for']) - np.mean(form_home['goals_against'])\n",
    "    form_away_goal_diff = np.mean(form_away['goals_for']) - np.mean(form_away['goals_against'])\n",
    "    form_goal_diff = form_home_goal_diff - form_away_goal_diff\n",
    "    \n",
    "    # get win difference form predictor\n",
    "    form_home_results = form_home['goals_for'] - form_home['goals_against']\n",
    "    form_home_wins = sum(3 for i in form_home_results if i > 0) + sum(1 for i in form_home_results if i == 0)\n",
    "    form_away_results = form_away['goals_for'] - form_away['goals_against']\n",
    "    form_away_wins = sum(3 for i in form_away_results if i > 0) + sum(1 for i in form_away_results if i == 0)\n",
    "    form_win_diff = form_home_wins / len(form_home_results) - form_away_wins / len(form_away_results)\n",
    "    \n",
    "    # return desired values\n",
    "    return form_goal_diff, form_win_diff"
   ]
  },
  {
   "cell_type": "code",
   "execution_count": 6,
   "metadata": {
    "collapsed": true
   },
   "outputs": [],
   "source": [
    "# function to get all of the game predictors needed\n",
    "def get_game_predictors (game):\n",
    "    \n",
    "    # get temperature predictor\n",
    "    temp = int(game['temp'][0][:game['temp'][0].index(\"C\")])\n",
    "    \n",
    "    # get weather predictor\n",
    "    weather = game['weather_desc'][0]\n",
    "    \n",
    "    # get difference in market value\n",
    "    home_market_value = int(game['home market value'][0].replace(',', ''))\n",
    "    away_market_value = int(game['away market value'][0].replace(',', ''))\n",
    "    market_value_diff = home_market_value - away_market_value\n",
    "    \n",
    "    # get response variable\n",
    "    goal_diff = (game['FTHG'] - game['FTAG'])[0]\n",
    "    \n",
    "    # return desired values\n",
    "    return temp, weather, market_value_diff, goal_diff\n"
   ]
  },
  {
   "cell_type": "code",
   "execution_count": 7,
   "metadata": {
    "collapsed": true
   },
   "outputs": [],
   "source": [
    "# function to go in and get all the player info we want for each team\n",
    "def get_player_info (team):\n",
    "    \n",
    "    # get the goalie, defense, midfield, and forward for that side\n",
    "    goalie = []\n",
    "    defense = []\n",
    "    midfield = []\n",
    "    forward = []\n",
    "\n",
    "    for i in range(len(team['position'])):\n",
    "        if 'X' in team['position'][i]:\n",
    "            goalie.append(i)\n",
    "        elif 'D' in team['position'][i] and 'M' not in team['position'][i]:\n",
    "            defense.append(i)\n",
    "        elif 'M' in team['position'][i]:\n",
    "            midfield.append(i)\n",
    "        else:\n",
    "            forward.append(i)\n",
    "    goalies = team.iloc[goalie]\n",
    "    defenders = team.iloc[defense]\n",
    "    midfielders = team.iloc[midfield]\n",
    "    forwards = team.iloc[forward]\n",
    "    \n",
    "    goalie_lst = [np.mean(goalies['GK diving']), np.mean(goalies['GK handling']), \n",
    "                  np.mean(goalies['GK positioning']), np.mean(goalies['GK reflexes'])]\n",
    "    \n",
    "    defense_lst = [np.mean(defenders['Acceleration']), np.mean(defenders['Aggression']), \n",
    "                   np.mean(defenders['Heading accuracy']), np.mean(defenders['Interceptions']),\n",
    "                   np.mean(defenders['Jumping']), np.mean(defenders['Marking']), \n",
    "                   np.mean(defenders['Positioning']), np.mean(defenders['Sliding tackle']), \n",
    "                   np.mean(defenders['Sprint speed']), np.mean(defenders['Standing tackle']), \n",
    "                   np.mean(defenders['Strength'])]\n",
    "    \n",
    "    midfield_lst = [np.mean(midfielders['Balance']), np.mean(midfielders['Acceleration']), \n",
    "                    np.mean(midfielders['Crossing']), np.mean(midfielders['Ball control']), \n",
    "                    np.mean(midfielders['Dribbling']), np.mean(midfielders['Long passing']),\n",
    "                    np.mean(midfielders['Short passing']), np.mean(midfielders['Positioning']), \n",
    "                    np.mean(midfielders['Sprint speed']), np.mean(midfielders['Stamina']), \n",
    "                    np.mean(midfielders['Vision']), np.mean(midfielders['Interceptions'])]\n",
    "    \n",
    "    forward_lst = [np.mean(forwards['Acceleration']), np.mean(forwards['Finishing']), \n",
    "                   np.mean(forwards['Reactions']), np.mean(forwards['Shot power']), \n",
    "                   np.mean(forwards['Volleys']), np.mean(forwards['Sprint speed']), \n",
    "                   np.mean(forwards['Stamina']), np.mean(forwards['Strength']), \n",
    "                   np.mean(forwards['Composure']), np.mean(forwards['Jumping']),\n",
    "                   np.mean(forwards['Agility']), np.mean(forwards['Dribbling'])]\n",
    "    \n",
    "    # get the overall rating for the team's goalie, defense, midfield, and forward\n",
    "    team_goalie = np.mean(goalie_lst)\n",
    "    team_defense = np.mean(defense_lst)\n",
    "    team_midfield = np.mean(midfield_lst)\n",
    "    team_forward = np.mean(forward_lst)\n",
    "    \n",
    "    # return desired values\n",
    "    return team_goalie, team_defense, team_midfield, team_forward"
   ]
  },
  {
   "cell_type": "code",
   "execution_count": 8,
   "metadata": {},
   "outputs": [],
   "source": [
    "# function to get all of the player predictors needed\n",
    "def get_player_predictors (players, home, away):\n",
    "    \n",
    "    # get home and away players\n",
    "    players_home = players[players['team'] == home].reset_index()\n",
    "    players_away = players[players['team'] == away].reset_index()\n",
    "    \n",
    "    # get the best player matchup\n",
    "    best_player_diff = max(players_home['Overall']) - max(players_away['Overall'])\n",
    "    \n",
    "    # get the worst player matchup\n",
    "    worst_player_diff = min(players_home['Overall']) - min(players_away['Overall'])\n",
    "    \n",
    "    # get the difference in variances of players\n",
    "    var_players_diff = np.var(players_home['Overall']) - np.var(players_away['Overall'])\n",
    "    \n",
    "    # get the difference in age\n",
    "    age_diff = np.mean(players_home['Age']) - np.mean(players_away['Age'])\n",
    "    \n",
    "    # get stats for sections of home players\n",
    "    home_player_info = get_player_info(players_home)\n",
    "    home_goalie = home_player_info[0]\n",
    "    home_defense = home_player_info[1]\n",
    "    home_midfield = home_player_info[2]\n",
    "    home_forward = home_player_info[3]\n",
    "    \n",
    "    # get stats for sections of away players\n",
    "    away_player_info = get_player_info(players_away)\n",
    "    away_goalie = away_player_info[0]\n",
    "    away_defense = away_player_info[1]\n",
    "    away_midfield = away_player_info[2]\n",
    "    away_forward = away_player_info[3]\n",
    "    \n",
    "    # get the rest of the player predictors\n",
    "    HF_AD = home_forward - away_defense\n",
    "    HF_AG = home_forward - away_goalie\n",
    "    HM_AM = home_midfield - away_midfield\n",
    "    HD_AF = home_defense - away_forward\n",
    "    HG_AF = home_goalie - away_forward\n",
    "    \n",
    "    # return desired values\n",
    "    return HF_AD, HF_AG, HM_AM, HD_AF, HG_AF, best_player_diff, worst_player_diff, var_players_diff, age_diff"
   ]
  },
  {
   "cell_type": "code",
   "execution_count": 9,
   "metadata": {
    "collapsed": true
   },
   "outputs": [],
   "source": [
    "def build_set (game_data, form_data, player_data):\n",
    "\n",
    "    # prep lists to put into dataset\n",
    "    temps = []\n",
    "    weathers = []\n",
    "    market_value_diffs = []\n",
    "    goal_diffs = []\n",
    "    form_goal_diffs = []\n",
    "    form_win_diffs = []\n",
    "    HF_ADs = []\n",
    "    HF_AGs = []\n",
    "    HM_AMs = []\n",
    "    HD_AFs = []\n",
    "    HG_AFs = []\n",
    "    best_player_diffs = []\n",
    "    worst_player_diffs = []\n",
    "    var_players_diffs = []\n",
    "    age_diffs = []\n",
    "    \n",
    "    game_ids = game_data['game_id']\n",
    "    for game_id in game_ids:\n",
    "        # get data for just this game\n",
    "        players = player_data[player_data['game_id'] == game_id].reset_index()\n",
    "        form = form_data[form_data['game_id'] == game_id].reset_index()\n",
    "        game = game_data[game_data['game_id'] == game_id].reset_index()\n",
    "\n",
    "        # get home and away team\n",
    "        home = game['home'][0]\n",
    "        away = game['away'][0]\n",
    "\n",
    "        # get all game predictors\n",
    "        game_preds = get_game_predictors(game)\n",
    "        temp = game_preds[0]\n",
    "        weather = game_preds[1]\n",
    "        market_value_diff = game_preds[2]\n",
    "        goal_diff = game_preds[3]\n",
    "\n",
    "        # get all form predictors\n",
    "        form_preds = get_form_predictors(form, home, away)\n",
    "        form_goal_diff = form_preds[0]\n",
    "        form_win_diff = form_preds[1]\n",
    "\n",
    "        # get all player predictors\n",
    "        player_preds = get_player_predictors(players, home, away)\n",
    "        HF_AD = player_preds[0]\n",
    "        HF_AG = player_preds[1]\n",
    "        HM_AM = player_preds[2]\n",
    "        HD_AF = player_preds[3]\n",
    "        HG_AF = player_preds[4]\n",
    "        best_player_diff = player_preds[5]\n",
    "        worst_player_diff = player_preds[6]\n",
    "        var_players_diff = player_preds[7]\n",
    "        age_diff = player_preds[8]\n",
    "        \n",
    "        # fill the lists\n",
    "        temps.append(temp)\n",
    "        weathers.append(weather)\n",
    "        market_value_diffs.append(market_value_diff)\n",
    "        goal_diffs.append(goal_diff)\n",
    "        form_goal_diffs.append(form_goal_diff)\n",
    "        form_win_diffs.append(form_win_diff)\n",
    "        HF_ADs.append(HF_AD)\n",
    "        HF_AGs.append(HF_AG)\n",
    "        HM_AMs.append(HM_AM)\n",
    "        HD_AFs.append(HD_AF)\n",
    "        HG_AFs.append(HG_AF)\n",
    "        best_player_diffs.append(best_player_diff)\n",
    "        worst_player_diffs.append(worst_player_diff)\n",
    "        var_players_diffs.append(var_players_diff)\n",
    "        age_diffs.append(age_diff)\n",
    "\n",
    "    return_df = pd.DataFrame()\n",
    "    return_df['temp'] = temps\n",
    "    return_df['weather'] = weathers\n",
    "    return_df['market_value_diff'] = market_value_diffs\n",
    "    return_df['form_goal_diff'] = form_goal_diffs\n",
    "    return_df['form_win_diff'] = form_win_diffs\n",
    "    return_df['HF_AD'] = HF_ADs\n",
    "    return_df['HF_AG'] = HF_AGs\n",
    "    return_df['HM_AM'] = HM_AMs\n",
    "    return_df['HD_AF'] = HD_AFs\n",
    "    return_df['HG_AF'] = HG_AFs\n",
    "    return_df['best_player_diff'] = best_player_diffs\n",
    "    return_df['worst_player_diff'] = worst_player_diffs\n",
    "    return_df['variance_players_diff'] = var_players_diffs\n",
    "    return_df['age_diff'] = age_diffs\n",
    "    return_df['goal_diff'] = goal_diffs\n",
    "    \n",
    "    return return_df"
   ]
  },
  {
   "cell_type": "code",
   "execution_count": 11,
   "metadata": {
    "collapsed": true
   },
   "outputs": [],
   "source": [
    "int_cols = ['Acceleration', 'Aggression', 'Agility', 'Balance',\n",
    "           'Ball control', 'Composure', 'Crossing', 'Curve', 'Dribbling',\n",
    "           'Finishing', 'GK diving', 'GK handling', 'GK positioning',\n",
    "           'GK reflexes', 'Heading accuracy', 'Interceptions', 'Jumping',\n",
    "           'Long passing', 'Long shots', 'Marking', 'Positioning',\n",
    "           'Reactions', 'Short passing', 'Shot power', 'Sliding tackle',\n",
    "           'Sprint speed', 'Stamina', 'Standing tackle', 'Strength', 'Vision',\n",
    "           'Volleys']"
   ]
  },
  {
   "cell_type": "code",
   "execution_count": 12,
   "metadata": {},
   "outputs": [],
   "source": [
    "for col in int_cols:\n",
    "    for i in range(player_data_df.shape[0]):\n",
    "        val = player_data_df[col].iloc[i]\n",
    "        player_data_df.at[i, col] = val[:2] if type(val) == str else val\n",
    "    player_data_df[col] = player_data_df[col].astype(int)"
   ]
  },
  {
   "cell_type": "code",
   "execution_count": 13,
   "metadata": {},
   "outputs": [],
   "source": [
    "form_data_df = form_data_df.dropna()"
   ]
  },
  {
   "cell_type": "code",
   "execution_count": 14,
   "metadata": {
    "scrolled": false
   },
   "outputs": [],
   "source": [
    "data_train = build_set(game_data_df, form_data_df, player_data_df)"
   ]
  },
  {
   "cell_type": "code",
   "execution_count": 50,
   "metadata": {},
   "outputs": [],
   "source": [
    "#data_train.to_csv('../train_data/data_train.csv')"
   ]
  },
  {
   "cell_type": "code",
   "execution_count": 51,
   "metadata": {},
   "outputs": [],
   "source": [
    "#data_train"
   ]
  },
  {
   "cell_type": "markdown",
   "metadata": {},
   "source": [
    "Get the testing dataset after 90 minutes."
   ]
  },
  {
   "cell_type": "code",
   "execution_count": 40,
   "metadata": {
    "collapsed": true
   },
   "outputs": [],
   "source": [
    "game_data_test = pd.read_csv('../test_data/game_data.csv', index_col=0)\n",
    "form_data_test = pd.read_csv('../test_data/form_data.csv', index_col=0)\n",
    "player_data_test = pd.read_csv('../test_data/player_data.csv', index_col=0)"
   ]
  },
  {
   "cell_type": "code",
   "execution_count": 41,
   "metadata": {},
   "outputs": [],
   "source": [
    "game_data_test.drop(['FTHG', 'FTAG'], axis = 1, inplace = True)"
   ]
  },
  {
   "cell_type": "code",
   "execution_count": 42,
   "metadata": {},
   "outputs": [],
   "source": [
    "game_data_test.rename(columns = {\"90HG\": \"FTHG\", \"90AG\": \"FTAG\", \"home_market_value\": \"home market value\", \"away_market_value\": \"away market value\"}, inplace = True)"
   ]
  },
  {
   "cell_type": "code",
   "execution_count": 43,
   "metadata": {},
   "outputs": [],
   "source": [
    "game_data_test['home market value'] = game_data_test['home market value'].astype(str)\n",
    "game_data_test['away market value'] = game_data_test['away market value'].astype(str)"
   ]
  },
  {
   "cell_type": "code",
   "execution_count": 44,
   "metadata": {
    "collapsed": true
   },
   "outputs": [],
   "source": [
    "for col in int_cols:\n",
    "    for i in range(player_data_test.shape[0]):\n",
    "        val = player_data_test[col].iloc[i]\n",
    "        player_data_test.at[i, col] = val[:2] if type(val) == str else val\n",
    "    player_data_test[col] = player_data_test[col].astype(int)"
   ]
  },
  {
   "cell_type": "code",
   "execution_count": 45,
   "metadata": {
    "collapsed": true
   },
   "outputs": [],
   "source": [
    "form_data_test = form_data_test.dropna()"
   ]
  },
  {
   "cell_type": "code",
   "execution_count": 46,
   "metadata": {},
   "outputs": [],
   "source": [
    "data_test = build_set(game_data_test, form_data_test, player_data_test)"
   ]
  },
  {
   "cell_type": "code",
   "execution_count": 48,
   "metadata": {},
   "outputs": [],
   "source": [
    "data_test.to_csv('../test_data/data_test.csv')"
   ]
  },
  {
   "cell_type": "markdown",
   "metadata": {},
   "source": [
    "Now get the testing dataset after extra time."
   ]
  },
  {
   "cell_type": "code",
   "execution_count": 52,
   "metadata": {
    "collapsed": true
   },
   "outputs": [],
   "source": [
    "game_data_test_et = pd.read_csv('../test_data/game_data.csv', index_col=0)\n",
    "form_data_test_et = pd.read_csv('../test_data/form_data.csv', index_col=0)\n",
    "player_data_test_et = pd.read_csv('../test_data/player_data.csv', index_col=0)"
   ]
  },
  {
   "cell_type": "code",
   "execution_count": 53,
   "metadata": {
    "collapsed": true
   },
   "outputs": [],
   "source": [
    "game_data_test_et.rename(columns = {\"home_market_value\": \"home market value\", \"away_market_value\": \"away market value\"}, inplace = True)"
   ]
  },
  {
   "cell_type": "code",
   "execution_count": 54,
   "metadata": {
    "collapsed": true
   },
   "outputs": [],
   "source": [
    "game_data_test_et['home market value'] = game_data_test_et['home market value'].astype(str)\n",
    "game_data_test_et['away market value'] = game_data_test_et['away market value'].astype(str)"
   ]
  },
  {
   "cell_type": "code",
   "execution_count": 55,
   "metadata": {
    "collapsed": true
   },
   "outputs": [],
   "source": [
    "for col in int_cols:\n",
    "    for i in range(player_data_test_et.shape[0]):\n",
    "        val = player_data_test_et[col].iloc[i]\n",
    "        player_data_test_et.at[i, col] = val[:2] if type(val) == str else val\n",
    "    player_data_test_et[col] = player_data_test_et[col].astype(int)"
   ]
  },
  {
   "cell_type": "code",
   "execution_count": 56,
   "metadata": {
    "collapsed": true
   },
   "outputs": [],
   "source": [
    "form_data_test_et = form_data_test_et.dropna()"
   ]
  },
  {
   "cell_type": "code",
   "execution_count": 57,
   "metadata": {
    "collapsed": true
   },
   "outputs": [],
   "source": [
    "data_test_et = build_set(game_data_test_et, form_data_test_et, player_data_test_et)"
   ]
  },
  {
   "cell_type": "code",
   "execution_count": 59,
   "metadata": {},
   "outputs": [],
   "source": [
    "data_test_et.to_csv('../test_data/data_test_extratime.csv')"
   ]
  },
  {
   "cell_type": "code",
   "execution_count": null,
   "metadata": {
    "collapsed": true
   },
   "outputs": [],
   "source": []
  }
 ],
 "metadata": {
  "kernelspec": {
   "display_name": "Python 3",
   "language": "python",
   "name": "python3"
  },
  "language_info": {
   "codemirror_mode": {
    "name": "ipython",
    "version": 3
   },
   "file_extension": ".py",
   "mimetype": "text/x-python",
   "name": "python",
   "nbconvert_exporter": "python",
   "pygments_lexer": "ipython3",
   "version": "3.6.3"
  }
 },
 "nbformat": 4,
 "nbformat_minor": 2
}
