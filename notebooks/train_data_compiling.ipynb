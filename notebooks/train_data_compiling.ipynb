{
 "cells": [
  {
   "cell_type": "code",
   "execution_count": 9,
   "metadata": {},
   "outputs": [],
   "source": [
    "import pandas as pd"
   ]
  },
  {
   "cell_type": "code",
   "execution_count": 2,
   "metadata": {
    "collapsed": true
   },
   "outputs": [],
   "source": [
    "cols = [\n",
    "    'O_D_diff', 'mid_diff', 'GK_O_diff', 'O_GK_diff', 'age_diff', \n",
    "    'MV_diff', 'GD_diff', 'top_diff', 'bot_diff', 'form_diff', 'var_diff', \n",
    "    'temp', 'weather_desc', 'goal_diff'\n",
    "]"
   ]
  },
  {
   "cell_type": "code",
   "execution_count": 3,
   "metadata": {
    "collapsed": true
   },
   "outputs": [],
   "source": [
    "data_dict = {col: [] for col in cols}"
   ]
  },
  {
   "cell_type": "code",
   "execution_count": 7,
   "metadata": {},
   "outputs": [],
   "source": [
    "game_data_df = pd.read_csv('../train_data/game_data.csv')\n",
    "form_data_df = pd.read_csv('../train_data/form_data.csv')\n",
    "player_data_df = pd.read_csv('../train_data/player_data.csv')"
   ]
  },
  {
   "cell_type": "code",
   "execution_count": 11,
   "metadata": {},
   "outputs": [
    {
     "data": {
      "text/plain": [
       "Index(['Unnamed: 0', 'Unnamed: 0.1', 'index', 'Unnamed: 0.1.1', 'home', 'away',\n",
       "       'league', 'game_id', 'season', 'temp', 'weather_desc', 'date', 'game',\n",
       "       'AC', 'AF', 'AR', 'AS', 'AST', 'AY', 'AwayTeam', 'B365A', 'B365D',\n",
       "       'B365H', 'BWA', 'BWD', 'BWH', 'Bb1X2', 'BbAH', 'BbAHh', 'BbAv<2.5',\n",
       "       'BbAv>2.5', 'BbAvA', 'BbAvAHA', 'BbAvAHH', 'BbAvD', 'BbAvH', 'BbMx<2.5',\n",
       "       'BbMx>2.5', 'BbMxA', 'BbMxAHA', 'BbMxAHH', 'BbMxD', 'BbMxH', 'BbOU',\n",
       "       'Date', 'Div', 'FTAG', 'FTHG', 'FTR', 'HC', 'HF', 'HR', 'HS', 'HST',\n",
       "       'HTAG', 'HTHG', 'HTR', 'HY', 'HomeTeam', 'IWA', 'IWD', 'IWH', 'LBA',\n",
       "       'LBD', 'LBH', 'PSA', 'PSCA', 'PSCD', 'PSCH', 'PSD', 'PSH', 'Referee',\n",
       "       'VCA', 'VCD', 'VCH', 'WHA', 'WHD', 'WHH', 'home market value',\n",
       "       'home age', 'away market value', 'away age'],\n",
       "      dtype='object')"
      ]
     },
     "execution_count": 11,
     "metadata": {},
     "output_type": "execute_result"
    }
   ],
   "source": [
    "game_data_df.columns"
   ]
  },
  {
   "cell_type": "code",
   "execution_count": 14,
   "metadata": {},
   "outputs": [],
   "source": [
    "data_clean = game_data_df[['game_id', 'away', 'home', 'AwayTeam', 'HomeTeam', 'temp', 'weather_desc', 'date', 'home market value', 'home age', 'away market value', 'away age', 'FTAG', 'FTHG']]\n",
    "data_clean.to_csv('../train_data/game_data.csv')"
   ]
  },
  {
   "cell_type": "code",
   "execution_count": 18,
   "metadata": {},
   "outputs": [
    {
     "data": {
      "text/plain": [
       "Index(['Unnamed: 0', 'Acceleration', 'Age', 'Aggression', 'Agility', 'Balance',\n",
       "       'Ball control', 'CAM', 'CB', 'CDM', 'CF', 'CM', 'Club', 'Club Logo',\n",
       "       'Composure', 'Crossing', 'Curve', 'Dribbling', 'Finishing', 'Flag',\n",
       "       'Free kick accuracy', 'GK diving', 'GK handling', 'GK kicking',\n",
       "       'GK positioning', 'GK reflexes', 'Heading accuracy', 'ID',\n",
       "       'Interceptions', 'Jumping', 'LAM', 'LB', 'LCB', 'LCM', 'LDM', 'LF',\n",
       "       'LM', 'LS', 'LW', 'LWB', 'Long passing', 'Long shots', 'Marking',\n",
       "       'Name', 'Nationality', 'Overall', 'Penalties', 'Photo', 'Positioning',\n",
       "       'Potential', 'Preferred Positions', 'RAM', 'RB', 'RCB', 'RCM', 'RDM',\n",
       "       'RF', 'RM', 'RS', 'RW', 'RWB', 'Reactions', 'ST', 'Short passing',\n",
       "       'Shot power', 'Sliding tackle', 'Special', 'Sprint speed', 'Stamina',\n",
       "       'Standing tackle', 'Strength', 'Unnamed: 0.1', 'Unnamed: 0.1.1',\n",
       "       'Unnamed: 0_x', 'Unnamed: 0_y', 'Value', 'Vision', 'Volleys', 'Wage',\n",
       "       '_merge', 'game_id', 'identifier', 'identifier_0', 'identifier_1',\n",
       "       'identifier_x', 'identifier_y', 'index', 'name', 'player_id',\n",
       "       'position', 'team'],\n",
       "      dtype='object')"
      ]
     },
     "execution_count": 18,
     "metadata": {},
     "output_type": "execute_result"
    }
   ],
   "source": [
    "player_data_df.columns"
   ]
  },
  {
   "cell_type": "code",
   "execution_count": 21,
   "metadata": {},
   "outputs": [],
   "source": [
    "player_data_df[\n",
    "    [\n",
    "        'Acceleration', 'Age', 'Aggression', 'Agility', 'Balance', \n",
    "        'Ball control', 'Composure', 'Crossing',  'team', 'Curve',\n",
    "        'Dribbling', 'Finishing', 'GK diving', 'GK handling', 'GK positioning',\n",
    "        'GK reflexes', 'Heading accuracy', 'Interceptions', 'Jumping', 'Long passing',\n",
    "        'Long shots', 'Marking', 'Overall', 'Positioning', 'Reactions', 'Short passing',\n",
    "        'Shot power', 'Sliding tackle', 'Sprint speed', 'Stamina', 'Standing tackle', \n",
    "        'Strength', 'Vision', 'Volleys', 'game_id', 'position', 'team'\n",
    "    ]\n",
    "].to_csv('../train_data/player_data.csv')"
   ]
  },
  {
   "cell_type": "code",
   "execution_count": 22,
   "metadata": {},
   "outputs": [],
   "source": [
    "form_data_df[['goals_for', 'goals_against', 'team', 'game_id']].to_csv('../train_data/form_data.csv')"
   ]
  },
  {
   "cell_type": "code",
   "execution_count": null,
   "metadata": {
    "collapsed": true
   },
   "outputs": [],
   "source": [
    "display()"
   ]
  },
  {
   "cell_type": "code",
   "execution_count": null,
   "metadata": {
    "collapsed": true
   },
   "outputs": [],
   "source": [
    "for i in range(len(game_data_df)):\n",
    "    "
   ]
  }
 ],
 "metadata": {
  "kernelspec": {
   "display_name": "Python (cs109)",
   "language": "python",
   "name": "cs109"
  },
  "language_info": {
   "codemirror_mode": {
    "name": "ipython",
    "version": 3
   },
   "file_extension": ".py",
   "mimetype": "text/x-python",
   "name": "python",
   "nbconvert_exporter": "python",
   "pygments_lexer": "ipython3",
   "version": "3.6.7"
  }
 },
 "nbformat": 4,
 "nbformat_minor": 2
}
