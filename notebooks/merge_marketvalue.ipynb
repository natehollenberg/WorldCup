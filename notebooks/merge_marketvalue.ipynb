{
 "cells": [
  {
   "cell_type": "code",
   "execution_count": 1,
   "metadata": {},
   "outputs": [
    {
     "data": {
      "text/html": [
       "<style>\n",
       "blockquote { background: #AEDE94; }\n",
       "h1 { \n",
       "    padding-top: 25px;\n",
       "    padding-bottom: 25px;\n",
       "    text-align: left; \n",
       "    padding-left: 10px;\n",
       "    background-color: #DDDDDD; \n",
       "    color: black;\n",
       "}\n",
       "h2 { \n",
       "    padding-top: 10px;\n",
       "    padding-bottom: 10px;\n",
       "    text-align: left; \n",
       "    padding-left: 5px;\n",
       "    background-color: #EEEEEE; \n",
       "    color: black;\n",
       "}\n",
       "\n",
       "div.exercise {\n",
       "\tbackground-color: #ffcccc;\n",
       "\tborder-color: #E9967A; \t\n",
       "\tborder-left: 5px solid #800080; \n",
       "\tpadding: 0.5em;\n",
       "}\n",
       "div.theme {\n",
       "\tbackground-color: #DDDDDD;\n",
       "\tborder-color: #E9967A; \t\n",
       "\tborder-left: 5px solid #800080; \n",
       "\tpadding: 0.5em;\n",
       "\tfont-size: 18pt;\n",
       "}\n",
       "div.gc { \n",
       "\tbackground-color: #AEDE94;\n",
       "\tborder-color: #E9967A; \t \n",
       "\tborder-left: 5px solid #800080; \n",
       "\tpadding: 0.5em;\n",
       "\tfont-size: 12pt;\n",
       "}\n",
       "p.q1 { \n",
       "    padding-top: 5px;\n",
       "    padding-bottom: 5px;\n",
       "    text-align: left; \n",
       "    padding-left: 5px;\n",
       "    background-color: #EEEEEE; \n",
       "    color: black;\n",
       "}\n",
       "header {\n",
       "   padding-top: 35px;\n",
       "    padding-bottom: 35px;\n",
       "    text-align: left; \n",
       "    padding-left: 10px;\n",
       "    background-color: #DDDDDD; \n",
       "    color: black;\n",
       "}\n",
       "</style>\n",
       "\n"
      ],
      "text/plain": [
       "<IPython.core.display.HTML object>"
      ]
     },
     "execution_count": 1,
     "metadata": {},
     "output_type": "execute_result"
    }
   ],
   "source": [
    "#RUN THIS CELL \n",
    "import requests\n",
    "from IPython.core.display import HTML\n",
    "styles = requests.get(\"https://raw.githubusercontent.com/Harvard-IACS/2018-CS109A/master/content/styles/cs109.css\").text\n",
    "HTML(styles)"
   ]
  },
  {
   "cell_type": "code",
   "execution_count": 2,
   "metadata": {
    "collapsed": true
   },
   "outputs": [],
   "source": [
    "%matplotlib inline\n",
    "import numpy as np\n",
    "import numpy.random as nd\n",
    "import pandas as pd\n",
    "import math\n",
    "import matplotlib.pyplot as plt\n",
    "\n",
    "import os\n",
    "import seaborn as sns\n",
    "sns.set(style=\"darkgrid\")\n",
    "\n",
    "from sklearn.linear_model import LogisticRegressionCV\n",
    "from sklearn.neighbors import KNeighborsClassifier\n",
    "from sklearn.neighbors import KNeighborsRegressor\n",
    "\n",
    "from sklearn.model_selection import cross_val_score\n",
    "from sklearn.metrics import accuracy_score\n",
    "from sklearn.metrics import confusion_matrix\n",
    "from sklearn.preprocessing import Imputer\n",
    "from sklearn.metrics import mean_squared_error\n",
    "from sklearn.model_selection import train_test_split\n",
    "from IPython.display import display\n",
    "\n",
    "import random"
   ]
  },
  {
   "cell_type": "code",
   "execution_count": 3,
   "metadata": {
    "scrolled": true
   },
   "outputs": [],
   "source": [
    "pl = pd.read_csv('Premier League 17-18 abbrev.csv')\n",
    "liga = pd.read_csv('LaLiga1718_abbrev.csv')\n",
    "ligue = pd.read_csv('FranceLigue1_season1718_abbrev.csv')\n",
    "games = pd.read_csv('soccer_data_abbrev.csv', encoding = 'ISO-8859-1')"
   ]
  },
  {
   "cell_type": "code",
   "execution_count": 4,
   "metadata": {},
   "outputs": [],
   "source": [
    "def abbv_team (colu):\n",
    "    lst = colu.tolist()\n",
    "    ret = []\n",
    "    for team in lst:\n",
    "        ret.append(team[:4])\n",
    "    return np.array(ret)"
   ]
  },
  {
   "cell_type": "code",
   "execution_count": 5,
   "metadata": {},
   "outputs": [
    {
     "data": {
      "text/plain": [
       "0       Arse11/08/17\n",
       "1       Watf12/08/17\n",
       "2       Chel12/08/17\n",
       "3       Crys12/08/17\n",
       "4       Ever12/08/17\n",
       "5       Sout12/08/17\n",
       "6       West12/08/17\n",
       "7       Brig12/08/17\n",
       "8       Newc13/08/17\n",
       "9       Manc13/08/17\n",
       "10      Swan19/08/17\n",
       "11      Bour19/08/17\n",
       "12      Burn19/08/17\n",
       "13      Leic19/08/17\n",
       "14      Live19/08/17\n",
       "15      Sout19/08/17\n",
       "16      Stok19/08/17\n",
       "17      Hudd20/08/17\n",
       "18      Tott20/08/17\n",
       "19      City21/08/17\n",
       "20      Bour26/08/17\n",
       "21      Crys26/08/17\n",
       "22      Hudd26/08/17\n",
       "23      Newc26/08/17\n",
       "24      Watf26/08/17\n",
       "25      Manc26/08/17\n",
       "26      Chel27/08/17\n",
       "27      West27/08/17\n",
       "28      Live27/08/17\n",
       "29      Tott27/08/17\n",
       "            ...     \n",
       "1100    Athl05/05/18\n",
       "1101    Celt05/05/18\n",
       "1102    Vill05/05/18\n",
       "1103    Mala06/05/18\n",
       "1104    Atle06/05/18\n",
       "1105    Las 06/05/18\n",
       "1106    Barc06/05/18\n",
       "1107    Lega07/05/18\n",
       "1108    Barc09/05/18\n",
       "1109    Sevi09/05/18\n",
       "1110    RSoc12/05/18\n",
       "1111    DAla12/05/18\n",
       "1112    Depo12/05/18\n",
       "1113    Eiba12/05/18\n",
       "1114    Geta12/05/18\n",
       "1115    Giro12/05/18\n",
       "1116    Real12/05/18\n",
       "1117    RMad12/05/18\n",
       "1118    Espa13/05/18\n",
       "1119    Leva13/05/18\n",
       "1120    Celt19/05/18\n",
       "1121    Lega19/05/18\n",
       "1122    Las 19/05/18\n",
       "1123    Mala19/05/18\n",
       "1124    Sevi19/05/18\n",
       "1125    Vill19/05/18\n",
       "1126    Vale20/05/18\n",
       "1127    Athl20/05/18\n",
       "1128    Atle20/05/18\n",
       "1129    Barc20/05/18\n",
       "Name: game, Length: 1130, dtype: object"
      ]
     },
     "execution_count": 5,
     "metadata": {},
     "output_type": "execute_result"
    }
   ],
   "source": [
    "abbvteam = abbv_team(games['home'])\n",
    "games['game'] = abbvteam+games['date']\n",
    "games['game'].astype(str)"
   ]
  },
  {
   "cell_type": "code",
   "execution_count": 6,
   "metadata": {},
   "outputs": [
    {
     "data": {
      "text/plain": [
       "0      Arse11/08/17\n",
       "1      Brig12/08/17\n",
       "2      Chel12/08/17\n",
       "3      Crys12/08/17\n",
       "4      Ever12/08/17\n",
       "5      Sout12/08/17\n",
       "6      Watf12/08/17\n",
       "7      West12/08/17\n",
       "8      Manc13/08/17\n",
       "9      Newc13/08/17\n",
       "10     Bour19/08/17\n",
       "11     Burn19/08/17\n",
       "12     Leic19/08/17\n",
       "13     Live19/08/17\n",
       "14     Sout19/08/17\n",
       "15     Stok19/08/17\n",
       "16     Swan19/08/17\n",
       "17     Hudd20/08/17\n",
       "18     Tott20/08/17\n",
       "19     City21/08/17\n",
       "20     Bour26/08/17\n",
       "21     Crys26/08/17\n",
       "22     Hudd26/08/17\n",
       "23     Manc26/08/17\n",
       "24     Newc26/08/17\n",
       "25     Watf26/08/17\n",
       "26     Chel27/08/17\n",
       "27     Live27/08/17\n",
       "28     Tott27/08/17\n",
       "29     West27/08/17\n",
       "           ...     \n",
       "350    Swan28/04/18\n",
       "351    Manc29/04/18\n",
       "352    West29/04/18\n",
       "353    Tott30/04/18\n",
       "354    Brig04/05/18\n",
       "355    Bour05/05/18\n",
       "356    Ever05/05/18\n",
       "357    Leic05/05/18\n",
       "358    Stok05/05/18\n",
       "359    Watf05/05/18\n",
       "360    West05/05/18\n",
       "361    Arse06/05/18\n",
       "362    Chel06/05/18\n",
       "363    City06/05/18\n",
       "364    Swan08/05/18\n",
       "365    Chel09/05/18\n",
       "366    Leic09/05/18\n",
       "367    City09/05/18\n",
       "368    Tott09/05/18\n",
       "369    West10/05/18\n",
       "370    Burn13/05/18\n",
       "371    Crys13/05/18\n",
       "372    Hudd13/05/18\n",
       "373    Live13/05/18\n",
       "374    Manc13/05/18\n",
       "375    Newc13/05/18\n",
       "376    Sout13/05/18\n",
       "377    Swan13/05/18\n",
       "378    Tott13/05/18\n",
       "379    West13/05/18\n",
       "Name: game, Length: 380, dtype: object"
      ]
     },
     "execution_count": 6,
     "metadata": {},
     "output_type": "execute_result"
    }
   ],
   "source": [
    "plabbvteam = abbv_team(pl['HomeTeam'])\n",
    "pl['game'] = plabbvteam+pl['Date']\n",
    "pl['game'].astype(str)"
   ]
  },
  {
   "cell_type": "code",
   "execution_count": 7,
   "metadata": {},
   "outputs": [
    {
     "data": {
      "text/plain": [
       "0      Lega18/08/17\n",
       "1      Vale18/08/17\n",
       "2      Celt19/08/17\n",
       "3      Giro19/08/17\n",
       "4      Sevi19/08/17\n",
       "5      Athl20/08/17\n",
       "6      Barc20/08/17\n",
       "7      Depo20/08/17\n",
       "8      Leva21/08/17\n",
       "9      Mala21/08/17\n",
       "10     Real25/08/17\n",
       "11     RSoc25/08/17\n",
       "12     DAla26/08/17\n",
       "13     Giro26/08/17\n",
       "14     Las 26/08/17\n",
       "15     Leva26/08/17\n",
       "16     Eiba27/08/17\n",
       "17     Espa27/08/17\n",
       "18     Geta27/08/17\n",
       "19     RMad27/08/17\n",
       "20     Lega08/09/17\n",
       "21     Barc09/09/17\n",
       "22     RMad09/09/17\n",
       "23     Sevi09/09/17\n",
       "24     Vale09/09/17\n",
       "25     Athl10/09/17\n",
       "26     Celt10/09/17\n",
       "27     Depo10/09/17\n",
       "28     Vill10/09/17\n",
       "29     Mala11/09/17\n",
       "           ...     \n",
       "350    Celt05/05/18\n",
       "351    Giro05/05/18\n",
       "352    Vill05/05/18\n",
       "353    Atle06/05/18\n",
       "354    Barc06/05/18\n",
       "355    Las 06/05/18\n",
       "356    Mala06/05/18\n",
       "357    Lega07/05/18\n",
       "358    Barc09/05/18\n",
       "359    Sevi09/05/18\n",
       "360    DAla12/05/18\n",
       "361    Real12/05/18\n",
       "362    Eiba12/05/18\n",
       "363    Geta12/05/18\n",
       "364    Giro12/05/18\n",
       "365    Depo12/05/18\n",
       "366    RMad12/05/18\n",
       "367    RSoc12/05/18\n",
       "368    Espa13/05/18\n",
       "369    Leva13/05/18\n",
       "370    Celt19/05/18\n",
       "371    Las 19/05/18\n",
       "372    Lega19/05/18\n",
       "373    Mala19/05/18\n",
       "374    Sevi19/05/18\n",
       "375    Vill19/05/18\n",
       "376    Athl20/05/18\n",
       "377    Atle20/05/18\n",
       "378    Barc20/05/18\n",
       "379    Vale20/05/18\n",
       "Name: game, Length: 380, dtype: object"
      ]
     },
     "execution_count": 7,
     "metadata": {},
     "output_type": "execute_result"
    }
   ],
   "source": [
    "ligaabbvteam = abbv_team(liga['HomeTeam'])\n",
    "liga['game'] = ligaabbvteam + liga['Date']\n",
    "liga['game'].astype(str)"
   ]
  },
  {
   "cell_type": "code",
   "execution_count": 8,
   "metadata": {},
   "outputs": [
    {
     "data": {
      "text/plain": [
       "0      AS M04/08/17\n",
       "1      Olym05/08/17\n",
       "2      FC M05/08/17\n",
       "3      Mont05/08/17\n",
       "4      Pari05/08/17\n",
       "5      AS S05/08/17\n",
       "6      ES T05/08/17\n",
       "7      Ange06/08/17\n",
       "8      Lill06/08/17\n",
       "9      OdMe06/08/17\n",
       "10     OGC 11/08/17\n",
       "11     Stad11/08/17\n",
       "12     Amie12/08/17\n",
       "13     FC G12/08/17\n",
       "14     Stad12/08/17\n",
       "15     FC N12/08/17\n",
       "16     Toul12/08/17\n",
       "17     Dijo13/08/17\n",
       "18     EA G13/08/17\n",
       "19     RC S13/08/17\n",
       "20     FC M18/08/17\n",
       "21     Olym19/08/17\n",
       "22     Mont19/08/17\n",
       "23     OGC 19/08/17\n",
       "24     Stad19/08/17\n",
       "25     AS S19/08/17\n",
       "26     ES T19/08/17\n",
       "27     Lill20/08/17\n",
       "28     OdMe20/08/17\n",
       "29     Pari20/08/17\n",
       "           ...     \n",
       "350    Amie04/05/18\n",
       "351    Stad06/05/18\n",
       "352    Dijo06/05/18\n",
       "353    Olym06/05/18\n",
       "354    OdMe06/05/18\n",
       "355    FC M06/05/18\n",
       "356    FC N06/05/18\n",
       "357    Stad06/05/18\n",
       "358    AS S06/05/18\n",
       "359    Toul06/05/18\n",
       "360    EA G11/05/18\n",
       "361    Amie12/05/18\n",
       "362    Ange12/05/18\n",
       "363    FC G12/05/18\n",
       "364    Lill12/05/18\n",
       "365    AS M12/05/18\n",
       "366    Mont12/05/18\n",
       "367    OGC 12/05/18\n",
       "368    Pari12/05/18\n",
       "369    RC S12/05/18\n",
       "370    Stad19/05/18\n",
       "371    Dijo19/05/18\n",
       "372    Olym19/05/18\n",
       "373    OdMe19/05/18\n",
       "374    FC M19/05/18\n",
       "375    FC N19/05/18\n",
       "376    Stad19/05/18\n",
       "377    AS S19/05/18\n",
       "378    Toul19/05/18\n",
       "379    ES T19/05/18\n",
       "Name: game, Length: 380, dtype: object"
      ]
     },
     "execution_count": 8,
     "metadata": {},
     "output_type": "execute_result"
    }
   ],
   "source": [
    "ligueabbvteam = abbv_team(ligue['HomeTeam'])\n",
    "ligue['game'] = ligueabbvteam + ligue['Date']\n",
    "ligue['game'].astype(str)"
   ]
  },
  {
   "cell_type": "code",
   "execution_count": 16,
   "metadata": {},
   "outputs": [
    {
     "name": "stderr",
     "output_type": "stream",
     "text": [
      "/Users/marcusheijer/new_p3_env/lib/python3.6/site-packages/ipykernel_launcher.py:1: FutureWarning: Sorting because non-concatenation axis is not aligned. A future version\n",
      "of pandas will change to not sort by default.\n",
      "\n",
      "To accept the future behavior, pass 'sort=False'.\n",
      "\n",
      "To retain the current behavior and silence the warning, pass 'sort=True'.\n",
      "\n",
      "  \"\"\"Entry point for launching an IPython kernel.\n"
     ]
    }
   ],
   "source": [
    "combined_leagues = pd.concat([pl, ligue, liga])"
   ]
  },
  {
   "cell_type": "code",
   "execution_count": 26,
   "metadata": {
    "collapsed": true
   },
   "outputs": [],
   "source": [
    "merged_games = games.merge(combined_leagues, on = 'game', how = 'inner')"
   ]
  },
  {
   "cell_type": "code",
   "execution_count": 28,
   "metadata": {
    "collapsed": true
   },
   "outputs": [],
   "source": [
    "merged_games.to_csv('merged_games.csv')"
   ]
  },
  {
   "cell_type": "code",
   "execution_count": 44,
   "metadata": {},
   "outputs": [],
   "source": [
    "marketvalue = pd.read_csv('marketvalue_abbrev.csv')\n",
    "marketvalue_home = marketvalue[['HomeTeam', 'total market value', 'age']]\n",
    "marketvalue_away = marketvalue[['AwayTeam', 'total market value', 'age']]"
   ]
  },
  {
   "cell_type": "code",
   "execution_count": 42,
   "metadata": {},
   "outputs": [],
   "source": [
    "merge_home_games = merged_games.merge(marketvalue_home, on = 'HomeTeam', how = 'inner')"
   ]
  },
  {
   "cell_type": "code",
   "execution_count": 43,
   "metadata": {},
   "outputs": [],
   "source": [
    "merge_home_games.to_csv('merge_home_team.csv')"
   ]
  },
  {
   "cell_type": "code",
   "execution_count": 45,
   "metadata": {
    "collapsed": true
   },
   "outputs": [],
   "source": [
    "merge_home_games.rename(columns = {'total market value': 'home market value', 'age': 'home age'}, inplace = True)"
   ]
  },
  {
   "cell_type": "code",
   "execution_count": 47,
   "metadata": {},
   "outputs": [],
   "source": [
    "merge_all_games = merge_home_games.merge(marketvalue_away, on = 'AwayTeam', how = 'inner')\n",
    "merge_all_games.rename(columns = {'total market value': 'away market value', 'age': 'away age'}, inplace = True)"
   ]
  },
  {
   "cell_type": "code",
   "execution_count": 48,
   "metadata": {
    "collapsed": true
   },
   "outputs": [],
   "source": [
    "merge_all_games.to_csv('merged_marketvalue.csv')"
   ]
  }
 ],
 "metadata": {
  "kernelspec": {
   "display_name": "Python (new_p3_env)",
   "language": "python",
   "name": "new_p3_env"
  },
  "language_info": {
   "codemirror_mode": {
    "name": "ipython",
    "version": 3
   },
   "file_extension": ".py",
   "mimetype": "text/x-python",
   "name": "python",
   "nbconvert_exporter": "python",
   "pygments_lexer": "ipython3",
   "version": "3.6.3"
  }
 },
 "nbformat": 4,
 "nbformat_minor": 2
}
