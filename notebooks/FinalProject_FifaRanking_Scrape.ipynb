{
 "cells": [
  {
   "cell_type": "code",
   "execution_count": 1,
   "metadata": {},
   "outputs": [],
   "source": [
    "# import the necessary libraries\n",
    "%matplotlib inline\n",
    "import numpy as np\n",
    "import scipy as sp\n",
    "import matplotlib as mpl\n",
    "import matplotlib.cm as cm\n",
    "import matplotlib.pyplot as plt\n",
    "import pandas as pd\n",
    "import time\n",
    "pd.set_option('display.width', 500)\n",
    "pd.set_option('display.max_columns', 100)\n",
    "pd.set_option('display.notebook_repr_html', True)\n",
    "import seaborn as sns\n",
    "\n",
    "from bs4 import BeautifulSoup\n",
    "import requests"
   ]
  },
  {
   "cell_type": "code",
   "execution_count": 2,
   "metadata": {},
   "outputs": [],
   "source": [
    "url = 'http://www.fifaindex.com/players/fifa06_2/1/'\n",
    "my_page = requests.get(url)\n",
    "rating_soup = BeautifulSoup(my_page.text)"
   ]
  },
  {
   "cell_type": "code",
   "execution_count": 3,
   "metadata": {},
   "outputs": [],
   "source": [
    "def parse_ratings(rating_soup):\n",
    "    ratinglist = []\n",
    "    rating_body = rating_soup.tbody\n",
    "    for player in rating_body.find_all(\"tr\"):\n",
    "        attributes = player.find_all(\"td\")\n",
    "        ovr_rating = int(str(attributes[2].text)[:2])\n",
    "        pot_rating = int(str(attributes[2].text)[2:4])\n",
    "        name = attributes[3].text # Doesn't work\n",
    "        position = attributes[4].text\n",
    "        age = attributes[5].text\n",
    "        rating = { \n",
    "                     'name': name,\n",
    "                     'age': age,\n",
    "                     'position': position,\n",
    "                     'ovr_rating': ovr_rating,\n",
    "                     'pot_rating': pot_rating\n",
    "                    }\n",
    "        ratinglist.append(rating) \n",
    "    return ratinglist\n",
    "        "
   ]
  },
  {
   "cell_type": "code",
   "execution_count": 4,
   "metadata": {},
   "outputs": [
    {
     "name": "stdout",
     "output_type": "stream",
     "text": [
      "                       name age position ovr_rating pot_rating\n",
      "0                Ronaldinho  25      CAM         95         88\n",
      "1             Iker Casillas  24       GK         95         86\n",
      "2          Gianluigi Buffon  27       GK         95         88\n",
      "3                   Adriano  23       ST         94         90\n",
      "4                 Petr Cech  23       GK         94         93\n",
      "5                   Ronaldo  28       ST         94         91\n",
      "6              Wayne Rooney  19       ST         93         90\n",
      "7         Andriy Shevchenko  28       ST         93         90\n",
      "8              Samuel Eto'o  24       ST         93         87\n",
      "9               Oliver Kahn  36       GK         93         89\n",
      "10               Zé Roberto  31      LWM         92         79\n",
      "11               Roy Makaay  30       ST         92         90\n",
      "12          David Trezeguet  27       ST         92         89\n",
      "13            Thierry Henry  28       ST         92         88\n",
      "14          Zinedine Zidane  33      CAM         92         90\n",
      "15                   Marcos  32       GK         91         83\n",
      "16                  Juninho  30      CAM         91         87\n",
      "17                  Vicente  24      LWM         91         83\n",
      "18           Michaël Essien  22       CM         91         80\n",
      "19       Zlatan Ibrahimovic  23       ST         91         88\n",
      "20               C. Ronaldo  20      RWM         91         83\n",
      "21           Steven Gerrard  25       CM         91         90\n",
      "22        Pablo César Aimar  25      CAM         91         84\n",
      "23      Ruud van Nistelrooy  29       ST         91         89\n",
      "24            Rio Ferdinand  26       CB         91         85\n",
      "25       Fernando Morientes  29       ST         91         85\n",
      "26       Gianluca Zambrotta  28      LWB         91         84\n",
      "27                     Dida  31       GK         91         82\n",
      "28            Paolo Maldini  37       CB         91         87\n",
      "29                     Kaká  23      CAM         90         85\n",
      "..                      ...  ..      ...        ...        ...\n",
      "0               Jim Goodwin  23       CM         40         40\n",
      "1               Brian Pinas  26       LM         40         42\n",
      "2                 Cristiano  21       CM         39         46\n",
      "3                Hugo Gómez  24      RWM         39         46\n",
      "4               Dario Bazzi  20       CM         39         38\n",
      "5               Omar Rivera  21       LM         39         44\n",
      "6              Nuno Gourgel  17       ST         39         38\n",
      "7              Bryan Glover  17       CB         39         40\n",
      "8              Simone Puleo  25       CB         39         42\n",
      "9               Stefan Buck  22      LWB         39         48\n",
      "10        Sébastien Gormond  23       RM         38         49\n",
      "11         Manuel Lanzarote  21       LM         38         53\n",
      "12   Christoffer Brännström  23       CF         38         40\n",
      "13      Ángel Eduardo Reyna  20       RB         37         47\n",
      "14             Greg Cameron  17      CAM         37         48\n",
      "15            Fabio Roselli  21       CM         37         45\n",
      "16           Luciano Amaral  22       LB         37         41\n",
      "17              Tom Ekliden  23       ST         37         42\n",
      "18             Paul Arnison  27       RM         37         40\n",
      "19        Christian Eichner  22      LWB         36         36\n",
      "20              Ikechi Anya  20       CM         36         31\n",
      "21                Marc Pugh  19       RM         36         48\n",
      "22  Raúl Ascención Martínez  18      LWB         35         55\n",
      "23              Dennis Mimm  22       RM         35         36\n",
      "24          Mark Summerbell  29       CM         35         36\n",
      "25          José Híber Ruíz  25      CAM         34         43\n",
      "26             Jamie Tolley  22       CM         34         38\n",
      "27                 Pedrinha  27      CAM         34         38\n",
      "28         Juvet Tsiarovana  17      CDM         33         34\n",
      "29            Emin Sulimani  19       ST         33         36\n",
      "\n",
      "[10170 rows x 5 columns]\n"
     ]
    }
   ],
   "source": [
    "Ratings_2006DF = pd.DataFrame(columns=['name', 'age', 'position', 'ovr_rating', 'pot_rating'])\n",
    "for i in range(1,340):\n",
    "    url = 'http://www.fifaindex.com/players/fifa06_2/' + str(i) + '/'\n",
    "    my_page = requests.get(url)\n",
    "    rating_soup = BeautifulSoup(my_page.text)\n",
    "    ratings = parse_ratings(rating_soup)\n",
    "    Ratings_2006DF = Ratings_2006DF.append(ratings)\n",
    "Ratings_2006DF.to_csv(\"2006_FIFA_Ratings.csv\")"
   ]
  },
  {
   "cell_type": "code",
   "execution_count": 7,
   "metadata": {},
   "outputs": [],
   "source": [
    "Ratings_2010DF = pd.DataFrame(columns=['name', 'age', 'position', 'ovr_rating', 'pot_rating'])\n",
    "for i in range(1,340):\n",
    "    url = 'http://www.fifaindex.com/players/fifa10_6/' + str(i) + '/'\n",
    "    my_page = requests.get(url)\n",
    "    rating_soup = BeautifulSoup(my_page.text)\n",
    "    ratings = parse_ratings(rating_soup)\n",
    "    Ratings_2010DF = Ratings_2010DF.append(ratings)\n",
    "Ratings_2010DF.to_csv(\"2010_FIFA_Ratings.csv\")"
   ]
  },
  {
   "cell_type": "code",
   "execution_count": 8,
   "metadata": {},
   "outputs": [],
   "source": [
    "Ratings_2014DF = pd.DataFrame(columns=['name', 'age', 'position', 'ovr_rating', 'pot_rating'])\n",
    "for i in range(1,340):\n",
    "    url = 'http://www.fifaindex.com/players/fifa14_13/' + str(i) + '/'\n",
    "    my_page = requests.get(url)\n",
    "    rating_soup = BeautifulSoup(my_page.text)\n",
    "    ratings = parse_ratings(rating_soup)\n",
    "    Ratings_2014DF = Ratings_2014DF.append(ratings)\n",
    "Ratings_2014DF.to_csv(\"2014_FIFA_Ratings.csv\")"
   ]
  },
  {
   "cell_type": "code",
   "execution_count": 10,
   "metadata": {},
   "outputs": [],
   "source": [
    "Ratings_2018DF = pd.DataFrame(columns=['name', 'age', 'position', 'ovr_rating', 'pot_rating'])\n",
    "for i in range(1,340):\n",
    "    url = 'http://www.fifaindex.com/players/fifa18_278/' + str(i) + '/'\n",
    "    my_page = requests.get(url)\n",
    "    rating_soup = BeautifulSoup(my_page.text)\n",
    "    ratings = parse_ratings(rating_soup)\n",
    "    Ratings_2018DF = Ratings_2018DF.append(ratings)\n",
    "Ratings_2018DF.to_csv(\"2018_FIFA_Ratings.csv\")"
   ]
  }
 ],
 "metadata": {
  "kernelspec": {
   "display_name": "Python 3",
   "language": "python",
   "name": "python3"
  },
  "language_info": {
   "codemirror_mode": {
    "name": "ipython",
    "version": 3
   },
   "file_extension": ".py",
   "mimetype": "text/x-python",
   "name": "python",
   "nbconvert_exporter": "python",
   "pygments_lexer": "ipython3",
   "version": "3.7.0"
  }
 },
 "nbformat": 4,
 "nbformat_minor": 2
}
