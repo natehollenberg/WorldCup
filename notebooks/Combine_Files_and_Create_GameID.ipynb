{
 "cells": [
  {
   "cell_type": "code",
   "execution_count": 2,
   "metadata": {},
   "outputs": [],
   "source": [
    "import pandas as pd\n",
    "\n",
    "data = pd.read_csv('WorldCup/lineup_data/data_1.csv')\n",
    "form_data = pd.read_csv('WorldCup/lineup_data/form_data_1.csv')\n",
    "players = pd.read_csv('WorldCup/lineup_data/players_1.csv')\n",
    "\n",
    "for i in range(2,15):\n",
    "    data_temp = pd.read_csv(f'WorldCup/lineup_data/data_{i}.csv')\n",
    "    form_data_temp = pd.read_csv(f'WorldCup/lineup_data/form_data_{i}.csv')\n",
    "    players_temp = pd.read_csv(f'WorldCup/lineup_data/players_{i}.csv')\n",
    "    data = pd.concat([data, data_temp], ignore_index=True)\n",
    "    form_data = pd.concat([form_data, form_data_temp], ignore_index=True)\n",
    "    players = pd.concat([players, players_temp], ignore_index=True)"
   ]
  },
  {
   "cell_type": "code",
   "execution_count": 3,
   "metadata": {},
   "outputs": [],
   "source": [
    "data = data.drop(index = [25, 131, 703, 1118])\n",
    "form_data = form_data.drop(index = [250,251,252,253,254,255,256,257,258,259, 1310, 1311, 1312, 1313, 1314, 1315, 1316, 1317,1318,1319,7030,7031,7032,7033, 7034, 7035, 7036, 7037, 7038,7039])"
   ]
  },
  {
   "cell_type": "code",
   "execution_count": 4,
   "metadata": {},
   "outputs": [],
   "source": [
    "data_id = set(data['game_id'].tolist()) \n",
    "player_id = set(players['game_id'].tolist())\n",
    "missing = list(data_id ^ player_id)"
   ]
  },
  {
   "cell_type": "code",
   "execution_count": 5,
   "metadata": {},
   "outputs": [],
   "source": [
    "for i in missing:\n",
    "    data = data[data['game_id'] != i]\n",
    "    form_data = form_data[form_data['game_id'] != i]\n",
    "    players = players[players['game_id'] != i]\n",
    "data = data[data['game_id'] != 320]\n",
    "form_data = form_data[form_data['game_id'] != 320]\n",
    "players = players[players['game_id'] != 320]\n",
    "    "
   ]
  },
  {
   "cell_type": "code",
   "execution_count": 6,
   "metadata": {},
   "outputs": [],
   "source": [
    "data.reset_index(inplace = True)\n",
    "players.reset_index(inplace = True)\n",
    "form_data.reset_index(inplace = True)"
   ]
  },
  {
   "cell_type": "code",
   "execution_count": 7,
   "metadata": {},
   "outputs": [
    {
     "name": "stderr",
     "output_type": "stream",
     "text": [
      "/Users/timpugh/anaconda3/lib/python3.7/site-packages/ipykernel_launcher.py:5: SettingWithCopyWarning: \n",
      "A value is trying to be set on a copy of a slice from a DataFrame\n",
      "\n",
      "See the caveats in the documentation: http://pandas.pydata.org/pandas-docs/stable/indexing.html#indexing-view-versus-copy\n",
      "  \"\"\"\n",
      "/Users/timpugh/anaconda3/lib/python3.7/site-packages/ipykernel_launcher.py:7: SettingWithCopyWarning: \n",
      "A value is trying to be set on a copy of a slice from a DataFrame\n",
      "\n",
      "See the caveats in the documentation: http://pandas.pydata.org/pandas-docs/stable/indexing.html#indexing-view-versus-copy\n",
      "  import sys\n",
      "/Users/timpugh/anaconda3/lib/python3.7/site-packages/ipykernel_launcher.py:3: SettingWithCopyWarning: \n",
      "A value is trying to be set on a copy of a slice from a DataFrame\n",
      "\n",
      "See the caveats in the documentation: http://pandas.pydata.org/pandas-docs/stable/indexing.html#indexing-view-versus-copy\n",
      "  This is separate from the ipykernel package so we can avoid doing imports until\n"
     ]
    }
   ],
   "source": [
    "#Fix Game ID\n",
    "for i in range(0, len(data['game_id'])):\n",
    "    data['game_id'][i] = i\n",
    "    for j in range(22):\n",
    "        players['game_id'][(i*22)+j] = i\n",
    "    for k in range(10):\n",
    "        form_data['game_id'][(i*10)+k] = i\n",
    "        \n",
    "        "
   ]
  },
  {
   "cell_type": "code",
   "execution_count": 25,
   "metadata": {},
   "outputs": [],
   "source": [
    "players.to_csv('players.csv')"
   ]
  },
  {
   "cell_type": "code",
   "execution_count": 22,
   "metadata": {},
   "outputs": [],
   "source": [
    "form_data.to_csv('form.csv')"
   ]
  },
  {
   "cell_type": "code",
   "execution_count": 23,
   "metadata": {},
   "outputs": [],
   "source": [
    "data.to_csv('soccer_data.csv')"
   ]
  }
 ],
 "metadata": {
  "kernelspec": {
   "display_name": "Python 3",
   "language": "python",
   "name": "python3"
  },
  "language_info": {
   "codemirror_mode": {
    "name": "ipython",
    "version": 3
   },
   "file_extension": ".py",
   "mimetype": "text/x-python",
   "name": "python",
   "nbconvert_exporter": "python",
   "pygments_lexer": "ipython3",
   "version": "3.7.0"
  }
 },
 "nbformat": 4,
 "nbformat_minor": 2
}
