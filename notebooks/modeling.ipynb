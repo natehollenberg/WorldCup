{
 "cells": [
  {
   "cell_type": "code",
   "execution_count": 19,
   "metadata": {},
   "outputs": [],
   "source": [
    "import numpy as np\n",
    "import pandas as pd\n",
    "import matplotlib.pyplot as plt\n",
    "import sklearn\n",
    "\n",
    "from sklearn import preprocessing\n",
    "from sklearn.preprocessing import PolynomialFeatures\n",
    "from sklearn.metrics import r2_score\n",
    "from sklearn.model_selection import train_test_split\n",
    "from pandas.plotting import scatter_matrix\n",
    "\n",
    "from sklearn.model_selection import cross_val_score\n",
    "from sklearn.utils import resample\n",
    "from sklearn.tree import DecisionTreeClassifier\n",
    "from sklearn.ensemble import RandomForestClassifier\n",
    "from sklearn.ensemble import AdaBoostClassifier\n",
    "from sklearn.metrics import accuracy_score\n",
    "from IPython.display import display\n",
    "import pandas as pd\n",
    "%matplotlib inline\n",
    "\n",
    "import seaborn as sns\n",
    "sns.set(style='whitegrid')\n",
    "pd.set_option('display.width', 1500)\n",
    "pd.set_option('display.max_columns', 100)\n",
    "\n",
    "import warnings\n",
    "warnings.filterwarnings('ignore')\n",
    "\n",
    "# import stuff for modeling\n",
    "from sklearn.neighbors import KNeighborsRegressor\n",
    "import statsmodels.api as sm\n",
    "from sklearn.linear_model import LinearRegression\n",
    "from sklearn.linear_model import Ridge\n",
    "from sklearn.linear_model import Lasso\n",
    "from sklearn.linear_model import RidgeCV\n",
    "from sklearn.linear_model import LassoCV"
   ]
  },
  {
   "cell_type": "code",
   "execution_count": 2,
   "metadata": {},
   "outputs": [],
   "source": [
    "data_train = pd.read_csv('../train_data/data_train.csv', index_col = 0)\n",
    "data_train = data_train.dropna()\n",
    "data_train_dummy = pd.get_dummies(data_train, columns = ['weather'])\n",
    "x_train = data_train_dummy.drop(['goal_diff'], axis = 1)\n",
    "y_train = data_train_dummy[['goal_diff']]"
   ]
  },
  {
   "cell_type": "code",
   "execution_count": 21,
   "metadata": {
    "collapsed": true
   },
   "outputs": [],
   "source": [
    "data_test = pd.read_csv('../test_data/data_test.csv', index_col = 0)\n",
    "data_test = data_train.dropna()\n",
    "data_test_dummy = pd.get_dummies(data_test, columns = ['weather'])\n",
    "x_test = data_test_dummy.drop(['goal_diff'], axis = 1)\n",
    "y_test = data_test_dummy[['goal_diff']]"
   ]
  },
  {
   "cell_type": "markdown",
   "metadata": {},
   "source": [
    "Start off with KNN, using cross validation"
   ]
  },
  {
   "cell_type": "code",
   "execution_count": 3,
   "metadata": {},
   "outputs": [],
   "source": [
    "neighbors = [1, 5, 10, 15, 20, 25, 30, 35, 40, 45, 50, 100]\n",
    "knn_cv_scores = []\n",
    "\n",
    "# perform 5-fold cross validation\n",
    "for k in neighbors:\n",
    "    knn = KNeighborsRegressor(n_neighbors = k)\n",
    "    scores = cross_val_score(knn, x_train, y_train, cv = 5, scoring = 'r2')\n",
    "    knn_cv_scores.append(scores.mean())"
   ]
  },
  {
   "cell_type": "code",
   "execution_count": 4,
   "metadata": {},
   "outputs": [
    {
     "data": {
      "text/plain": [
       "[-0.65120082048891592,\n",
       " 0.028425328744255872,\n",
       " 0.13517035939482239,\n",
       " 0.17089338049954059,\n",
       " 0.18978256157432555,\n",
       " 0.19405485086106861,\n",
       " 0.19312757077678383,\n",
       " 0.19399264740284011,\n",
       " 0.19849491417313356,\n",
       " 0.2007823669038232,\n",
       " 0.20372280263116327,\n",
       " 0.21018572471828464]"
      ]
     },
     "execution_count": 4,
     "metadata": {},
     "output_type": "execute_result"
    }
   ],
   "source": [
    "knn_cv_scores"
   ]
  },
  {
   "cell_type": "markdown",
   "metadata": {},
   "source": [
    "Now, try making a linear model, using cross validation"
   ]
  },
  {
   "cell_type": "code",
   "execution_count": 16,
   "metadata": {},
   "outputs": [
    {
     "data": {
      "text/plain": [
       "array([ 0.21951063,  0.24728907,  0.28615433,  0.13306209,  0.18650881])"
      ]
     },
     "execution_count": 16,
     "metadata": {},
     "output_type": "execute_result"
    }
   ],
   "source": [
    "linear_reg_scores = []\n",
    "linear_reg_cv_scores = cross_val_score(LinearRegression(), sm.add_constant(x_train), y_train, cv = 5, scoring = 'r2')\n",
    "linear_reg_cv_scores"
   ]
  },
  {
   "cell_type": "code",
   "execution_count": 17,
   "metadata": {},
   "outputs": [
    {
     "data": {
      "text/plain": [
       "0.26874869374924337"
      ]
     },
     "execution_count": 17,
     "metadata": {},
     "output_type": "execute_result"
    }
   ],
   "source": [
    "# quick OLS model\n",
    "ols_model = sm.OLS(endog = y_train, exog = sm.add_constant(x_train), hasconst=True).fit()\n",
    "r2_score(y_train, ols_model.predict(sm.add_constant(x_train)))"
   ]
  },
  {
   "cell_type": "code",
   "execution_count": 24,
   "metadata": {},
   "outputs": [
    {
     "name": "stdout",
     "output_type": "stream",
     "text": [
      "ridge 0.26676448349\n",
      "lasso 0.264543361969\n"
     ]
    }
   ],
   "source": [
    "# generate list of lambdas\n",
    "lambdas = [0.1, 0.5, 1, 5, 10, 50, 100]\n",
    "\n",
    "# fit Ridge Model\n",
    "fit_ridge = RidgeCV(alphas = lambdas, cv = 5).fit(x_train, y_train)\n",
    "\n",
    "# fit Lasso Model\n",
    "fit_lasso = LassoCV(alphas = lambdas, cv = 5, max_iter = 100000).fit(x_train, y_train)\n",
    "\n",
    "ypredict_ridge = fit_ridge.predict(x_test)\n",
    "\n",
    "ypredict_lasso = fit_lasso.predict(x_test)\n",
    "\n",
    "print(\"ridge\", r2_score(y_test, ypredict_ridge))\n",
    "print(\"lasso\", r2_score(y_test, ypredict_lasso))"
   ]
  },
  {
   "cell_type": "code",
   "execution_count": null,
   "metadata": {
    "collapsed": true
   },
   "outputs": [],
   "source": []
  }
 ],
 "metadata": {
  "kernelspec": {
   "display_name": "Python 3",
   "language": "python",
   "name": "python3"
  },
  "language_info": {
   "codemirror_mode": {
    "name": "ipython",
    "version": 3
   },
   "file_extension": ".py",
   "mimetype": "text/x-python",
   "name": "python",
   "nbconvert_exporter": "python",
   "pygments_lexer": "ipython3",
   "version": "3.6.3"
  }
 },
 "nbformat": 4,
 "nbformat_minor": 2
}
